{
  "cells": [
    {
      "cell_type": "markdown",
      "metadata": {
        "id": "view-in-github",
        "colab_type": "text"
      },
      "source": [
        "<a href=\"https://colab.research.google.com/github/hss0727/BigData_project_Spark/blob/main/TopicModeling.ipynb\" target=\"_parent\"><img src=\"https://colab.research.google.com/assets/colab-badge.svg\" alt=\"Open In Colab\"/></a>"
      ]
    },
    {
      "cell_type": "markdown",
      "metadata": {
        "id": "a_MA7y9PhtRb"
      },
      "source": [
        "# Natural Language Processing using Spark ML package"
      ]
    },
    {
      "cell_type": "markdown",
      "metadata": {
        "id": "Hk9fn_Llh4_D"
      },
      "source": [
        "\n",
        "\n",
        "---\n",
        "\n",
        "ML package operates on Spark DataFrames. There are three main classes in the ML package:\n",
        "<ol>\n",
        "<li>Transformer: transforms data and add a new column to the DataFrame</li>\n",
        "<li>Estimator: models to make predictions or classify the observations</li>\n",
        "<li>Pipeline: end-to-end transformation-estimation process that ingests some raw data (DataFrame) and estimages a statistical model</li>\n",
        "</ol>\n",
        "\n",
        "\n",
        "---\n",
        "\n"
      ]
    },
    {
      "cell_type": "code",
      "execution_count": 2,
      "metadata": {
        "colab": {
          "base_uri": "https://localhost:8080/"
        },
        "id": "qYJWCRtixqzc",
        "outputId": "fa167601-6b89-447f-a881-8a5206a2c525"
      },
      "outputs": [
        {
          "output_type": "stream",
          "name": "stdout",
          "text": [
            "Drive already mounted at /content/drive/; to attempt to forcibly remount, call drive.mount(\"/content/drive/\", force_remount=True).\n"
          ]
        }
      ],
      "source": [
        "from google.colab import drive\n",
        "drive.mount('/content/drive/')\n"
      ]
    },
    {
      "cell_type": "code",
      "execution_count": 3,
      "metadata": {
        "colab": {
          "base_uri": "https://localhost:8080/"
        },
        "id": "7Hd3ShBWx4aN",
        "outputId": "31a72210-ef3a-45cc-8f03-6f5d2ea9cdaf"
      },
      "outputs": [
        {
          "output_type": "stream",
          "name": "stdout",
          "text": [
            "Looking in indexes: https://pypi.org/simple, https://us-python.pkg.dev/colab-wheels/public/simple/\n",
            "Collecting findspark\n",
            "  Downloading findspark-2.0.1-py2.py3-none-any.whl (4.4 kB)\n",
            "Installing collected packages: findspark\n",
            "Successfully installed findspark-2.0.1\n",
            "Looking in indexes: https://pypi.org/simple, https://us-python.pkg.dev/colab-wheels/public/simple/\n",
            "Collecting pyspark\n",
            "  Downloading pyspark-3.3.1.tar.gz (281.4 MB)\n",
            "\u001b[K     |████████████████████████████████| 281.4 MB 42 kB/s \n",
            "\u001b[?25hCollecting py4j==0.10.9.5\n",
            "  Downloading py4j-0.10.9.5-py2.py3-none-any.whl (199 kB)\n",
            "\u001b[K     |████████████████████████████████| 199 kB 40.7 MB/s \n",
            "\u001b[?25hBuilding wheels for collected packages: pyspark\n",
            "  Building wheel for pyspark (setup.py) ... \u001b[?25l\u001b[?25hdone\n",
            "  Created wheel for pyspark: filename=pyspark-3.3.1-py2.py3-none-any.whl size=281845514 sha256=7cf9507413089644be9ad510638f191ac79d0310ecd4ad39fbb7ca8fc88028ad\n",
            "  Stored in directory: /root/.cache/pip/wheels/42/59/f5/79a5bf931714dcd201b26025347785f087370a10a3329a899c\n",
            "Successfully built pyspark\n",
            "Installing collected packages: py4j, pyspark\n",
            "Successfully installed py4j-0.10.9.5 pyspark-3.3.1\n",
            "Looking in indexes: https://pypi.org/simple, https://us-python.pkg.dev/colab-wheels/public/simple/\n",
            "Collecting sparknlp\n",
            "  Downloading sparknlp-1.0.0-py3-none-any.whl (1.4 kB)\n",
            "Collecting spark-nlp\n",
            "  Downloading spark_nlp-4.2.3-py2.py3-none-any.whl (648 kB)\n",
            "\u001b[K     |████████████████████████████████| 648 kB 4.0 MB/s \n",
            "\u001b[?25hRequirement already satisfied: numpy in /usr/local/lib/python3.7/dist-packages (from sparknlp) (1.21.6)\n",
            "Installing collected packages: spark-nlp, sparknlp\n",
            "Successfully installed spark-nlp-4.2.3 sparknlp-1.0.0\n",
            "Looking in indexes: https://pypi.org/simple, https://us-python.pkg.dev/colab-wheels/public/simple/\n",
            "Requirement already satisfied: nltk in /usr/local/lib/python3.7/dist-packages (3.7)\n",
            "Requirement already satisfied: joblib in /usr/local/lib/python3.7/dist-packages (from nltk) (1.2.0)\n",
            "Requirement already satisfied: click in /usr/local/lib/python3.7/dist-packages (from nltk) (7.1.2)\n",
            "Requirement already satisfied: regex>=2021.8.3 in /usr/local/lib/python3.7/dist-packages (from nltk) (2022.6.2)\n",
            "Requirement already satisfied: tqdm in /usr/local/lib/python3.7/dist-packages (from nltk) (4.64.1)\n"
          ]
        }
      ],
      "source": [
        "!pip install findspark\n",
        "!pip install pyspark\n",
        "!pip install sparknlp\n",
        "!pip install nltk\n"
      ]
    },
    {
      "cell_type": "code",
      "execution_count": 38,
      "metadata": {
        "id": "bGxrRsO6yTwO"
      },
      "outputs": [],
      "source": [
        "from sparknlp.pretrained import PretrainedPipeline\n",
        "import sparknlp\n",
        "import pyspark.sql.functions as F\n",
        "from pyspark.sql.functions import col\n",
        "import pandas as pd\n",
        "import matplotlib.pyplot as plt\n",
        "import seaborn as sns"
      ]
    },
    {
      "cell_type": "code",
      "execution_count": 5,
      "metadata": {
        "id": "phO0KkJpzIfh"
      },
      "outputs": [],
      "source": [
        "# Start Spark Session with Spark NLP\n",
        "spark = sparknlp.start()"
      ]
    },
    {
      "cell_type": "markdown",
      "metadata": {
        "id": "TsGpASqwbyZS"
      },
      "source": [
        "\n",
        "<br>\n",
        "<br>\n",
        "<br>\n",
        "<br>\n",
        "<br>\n",
        "<br>\n",
        "\n",
        "## **1. Topic Modeling on Submissions data**\n",
        "\n",
        "---\n",
        "\n"
      ]
    },
    {
      "cell_type": "code",
      "execution_count": 6,
      "metadata": {
        "id": "-g31LTiPzTkv"
      },
      "outputs": [],
      "source": [
        "submissions_en = spark.read.parquet(\"/content/drive/Shareddrives/502_project/data/submissions_en_cleaned\")"
      ]
    },
    {
      "cell_type": "code",
      "execution_count": 7,
      "metadata": {
        "colab": {
          "base_uri": "https://localhost:8080/"
        },
        "id": "VL75lpYh4Y-6",
        "outputId": "fa63b050-7993-4dcc-91e5-427ec3fa83b6"
      },
      "outputs": [
        {
          "output_type": "stream",
          "name": "stdout",
          "text": [
            "+------------------+------------------+--------+-----------------+--------------+----------------------+-----------------+---------+----------+------------+-------------------+----------------+---------------------+----------------+-------------+----------------+---------------+------+----------+---------+------+------+----------+--------+------+---------+----------------+----------------------+-------+--------+--------------------+--------------------+------+-----+--------------------+-------------+------------+--------------+-------------+-------+-----------------------+--------------------+------+---------+-------+--------+-----------+---------------------+------------+------------+-----+------------+--------------------+---------+-------+--------+-----------------+------------+--------------+--------------------+--------------------+----------------------+--------------------+----------------+---------------+--------------------+--------------------+----------------+------------+--------------------+------------+-------------+----------+--------------------+--------------------+\n",
            "|adserver_click_url|adserver_imp_pixel|archived|           author|author_cakeday|author_flair_css_class|author_flair_text|author_id|brand_safe|contest_mode|        created_utc|crosspost_parent|crosspost_parent_list|disable_comments|distinguished|          domain|domain_override|edited|embed_type|embed_url|gilded|hidden|hide_score|href_url|    id|imp_pixel|is_crosspostable|is_reddit_media_domain|is_self|is_video|link_flair_css_class|     link_flair_text|locked|media|         media_embed|mobile_ad_url|num_comments|num_crossposts|original_link|over_18|parent_whitelist_status|           permalink|pinned|post_hint|preview|promoted|promoted_by|promoted_display_name|promoted_url|retrieved_on|score|secure_media|  secure_media_embed| selftext|spoiler|stickied|        subreddit|subreddit_id|suggested_sort|third_party_trackers|third_party_tracking|third_party_tracking_2|           thumbnail|thumbnail_height|thumbnail_width|               title|                 url|whitelist_status|created_date|                text|     Russian|    Ukrainian|   English|  normalizedDocument|        cleaned_text|\n",
            "+------------------+------------------+--------+-----------------+--------------+----------------------+-----------------+---------+----------+------------+-------------------+----------------+---------------------+----------------+-------------+----------------+---------------+------+----------+---------+------+------+----------+--------+------+---------+----------------+----------------------+-------+--------+--------------------+--------------------+------+-----+--------------------+-------------+------------+--------------+-------------+-------+-----------------------+--------------------+------+---------+-------+--------+-----------+---------------------+------------+------------+-----+------------+--------------------+---------+-------+--------+-----------------+------------+--------------+--------------------+--------------------+----------------------+--------------------+----------------+---------------+--------------------+--------------------+----------------+------------+--------------------+------------+-------------+----------+--------------------+--------------------+\n",
            "|              null|              null|   false|        jmsferret|          null|                  null|             null|     null|      null|       false|2022-03-02 15:44:39|            null|                 null|            null|         null|      reddit.com|           null| false|      null|     null|     0| false|     false|    null|t52xeb|     null|            true|                 false|  false|   false|                    |Russian-Ukrainian...| false| null|{null, null, null...|         null|          10|             0|         null|  false|                 no_ads|/r/ukraine/commen...| false|     null|   null|    null|       null|                 null|        null|  1654087400|   63|        null|{null, null, null...|         |  false|   false|          ukraine|    t5_2qqcn|    confidence|                null|                null|                  null|https://b.thumbs....|             140|            140|More screenshots ...|https://www.reddi...|          no_ads|  2022-03-02|More screenshots ...| 4.765386E-9|6.7226677E-13|0.97249687|[{document, 0, 34...|screenshots kyiv ...|\n",
            "|              null|              null|   false|Fearless-Let-5934|          null|                  null|             null|     null|      null|       false|2022-03-02 15:45:03|       t3_t52vbm| [{null, null, fal...|            null|         null|       v.redd.it|           null| false|      null|     null|     0| false|     false|    null|t52xoe|     null|           false|                  true|  false|   false|                null|                null| false| null|{null, null, null...|         null|           4|             0|         null|  false|                 no_ads|/r/UkrainianConfl...| false|     null|   null|    null|       null|                 null|        null|  1654087399|  132|        null|{null, null, null...|         |  false|   false|UkrainianConflict|    t5_30hhs|    confidence|                null|                null|                  null|             default|             140|            140|\"IRKUTSK! We are ...|https://v.redd.it...|          no_ads|  2022-03-02|\"IRKUTSK! We are ...|5.0543235E-6| 3.7675466E-7| 0.6789498|[{document, 0, 74...|irkutsk peace pro...|\n",
            "|              null|              null|   false|        [deleted]|          null|                  null|             null|     null|      null|       false|2022-03-02 15:45:13|       t3_t52dan| [{null, null, fal...|            null|         null|off-guardian.org|           null| false|      null|     null|     0| false|     false|    null|t52xsw|     null|           false|                 false|  false|   false|                null|                null| false| null|{null, null, null...|         null|           2|             0|         null|  false|                   null|/r/UkrainianConfl...| false|     null|   null|    null|       null|                 null|        null|  1654087398|    2|        null|{null, null, null...|[deleted]|  false|   false|UkrainianConflict|    t5_30hhs|    confidence|                null|                null|                  null|             default|              64|            140|r/Conservative ho...|https://off-guard...|            null|  2022-03-02|r/Conservative ho...|1.3181523E-6|3.6690642E-10| 0.9572452|[{document, 0, 43...|conservative hold...|\n",
            "+------------------+------------------+--------+-----------------+--------------+----------------------+-----------------+---------+----------+------------+-------------------+----------------+---------------------+----------------+-------------+----------------+---------------+------+----------+---------+------+------+----------+--------+------+---------+----------------+----------------------+-------+--------+--------------------+--------------------+------+-----+--------------------+-------------+------------+--------------+-------------+-------+-----------------------+--------------------+------+---------+-------+--------+-----------+---------------------+------------+------------+-----+------------+--------------------+---------+-------+--------+-----------------+------------+--------------+--------------------+--------------------+----------------------+--------------------+----------------+---------------+--------------------+--------------------+----------------+------------+--------------------+------------+-------------+----------+--------------------+--------------------+\n",
            "only showing top 3 rows\n",
            "\n"
          ]
        }
      ],
      "source": [
        "submissions_en.show(3)"
      ]
    },
    {
      "cell_type": "code",
      "execution_count": 8,
      "metadata": {
        "id": "VLJ9OCuK4frc"
      },
      "outputs": [],
      "source": [
        "text = submissions_en.select('cleaned_text')"
      ]
    },
    {
      "cell_type": "markdown",
      "metadata": {
        "id": "W8IuOfvSgTWr"
      },
      "source": [
        "<br>\n",
        "<br>\n",
        "<br>\n",
        "<br>\n",
        "<br>\n",
        "<br>\n",
        "\n",
        "#### **1.1 Setup Topic Modeling Pipeline**\n",
        "---"
      ]
    },
    {
      "cell_type": "code",
      "execution_count": 9,
      "metadata": {
        "id": "5SJ1a05P7Knd"
      },
      "outputs": [],
      "source": [
        "# Transform data to annotation format using DocumentAssembler\n",
        "from sparknlp.base import DocumentAssembler\n",
        "documentAssembler = DocumentAssembler() \\\n",
        "  .setInputCol('cleaned_text')  \\\n",
        "  .setOutputCol('document')"
      ]
    },
    {
      "cell_type": "code",
      "execution_count": 10,
      "metadata": {
        "id": "QQjxWat08sKR"
      },
      "outputs": [],
      "source": [
        "# Setup Tokenizer\n",
        "from sparknlp.annotator import Tokenizer\n",
        "tokenizer = Tokenizer() \\\n",
        "  .setInputCols(['document']) \\\n",
        "  .setOutputCol('tokenized')"
      ]
    },
    {
      "cell_type": "code",
      "execution_count": 11,
      "metadata": {
        "id": "OXI3xcTi9B3G"
      },
      "outputs": [],
      "source": [
        "# Setup Normalization\n",
        "from sparknlp.annotator import Normalizer\n",
        "normalizer = Normalizer() \\\n",
        "  .setInputCols(['tokenized'])  \\\n",
        "  .setOutputCol('normalized') \\\n",
        "  .setLowercase(True)"
      ]
    },
    {
      "cell_type": "code",
      "execution_count": 12,
      "metadata": {
        "colab": {
          "base_uri": "https://localhost:8080/"
        },
        "id": "8J9yKDJA-AfZ",
        "outputId": "1044549b-2028-463e-a4b1-bed64a301f30"
      },
      "outputs": [
        {
          "output_type": "stream",
          "name": "stdout",
          "text": [
            "lemma_antbnc download started this may take some time.\n",
            "Approximate size to download 907.6 KB\n",
            "[OK!]\n"
          ]
        }
      ],
      "source": [
        "# Setup Lemmatizer\n",
        "from sparknlp.annotator import LemmatizerModel\n",
        "lemmatizer = LemmatizerModel.pretrained() \\\n",
        "     .setInputCols(['normalized']) \\\n",
        "     .setOutputCol('lemmatized')"
      ]
    },
    {
      "cell_type": "code",
      "execution_count": 13,
      "metadata": {
        "colab": {
          "base_uri": "https://localhost:8080/"
        },
        "id": "xCmaJCwb-Ifw",
        "outputId": "3b998581-e4aa-4aa0-9248-f58709e50672"
      },
      "outputs": [
        {
          "output_type": "stream",
          "name": "stderr",
          "text": [
            "[nltk_data] Downloading package stopwords to /root/nltk_data...\n",
            "[nltk_data]   Unzipping corpora/stopwords.zip.\n"
          ]
        }
      ],
      "source": [
        "# Setup stopwords\n",
        "import nltk\n",
        "from nltk.corpus import stopwords\n",
        "nltk.download('stopwords')\n",
        "eng_stopwords = stopwords.words('english')"
      ]
    },
    {
      "cell_type": "code",
      "execution_count": 14,
      "metadata": {
        "id": "3N_y1HlK-WtE"
      },
      "outputs": [],
      "source": [
        "# Setup stop words cleaner\n",
        "from sparknlp.annotator import StopWordsCleaner\n",
        "stopwords_cleaner = StopWordsCleaner() \\\n",
        "     .setInputCols(['lemmatized']) \\\n",
        "     .setOutputCol('no_stop_lemmatized') \\\n",
        "     .setStopWords(eng_stopwords)"
      ]
    },
    {
      "cell_type": "code",
      "execution_count": 15,
      "metadata": {
        "id": "bvFAaBm8-3bK"
      },
      "outputs": [],
      "source": [
        "# Transformation from the annotation format of SparkNLP to a human-readable format\n",
        "from sparknlp.base import Finisher\n",
        "finisher = Finisher() \\\n",
        "     .setInputCols(['no_stop_lemmatized']) \\\n",
        "     .setIncludeMetadata(True)"
      ]
    },
    {
      "cell_type": "code",
      "execution_count": 16,
      "metadata": {
        "id": "NNNA-DVVAlbi"
      },
      "outputs": [],
      "source": [
        "# Define pipeline\n",
        "from pyspark.ml import Pipeline\n",
        "pipeline = Pipeline() \\\n",
        "     .setStages([documentAssembler,\n",
        "                 tokenizer,\n",
        "                 normalizer,\n",
        "                 lemmatizer,\n",
        "                 stopwords_cleaner,\n",
        "                 finisher])"
      ]
    },
    {
      "cell_type": "markdown",
      "metadata": {
        "id": "DA2C53rAgcZB"
      },
      "source": [
        "<br>\n",
        "<br>\n",
        "<br>\n",
        "<br>\n",
        "<br>\n",
        "<br>\n",
        "\n",
        "#### **1.2 Apply Topic Modeling Pipeline to 'Submissions' data**\n",
        "\n",
        "\n",
        "---\n",
        "\n"
      ]
    },
    {
      "cell_type": "code",
      "execution_count": 17,
      "metadata": {
        "id": "Zwp6fYMNAvSj"
      },
      "outputs": [],
      "source": [
        "processed_text = pipeline.fit(text).transform(text)"
      ]
    },
    {
      "cell_type": "code",
      "execution_count": 18,
      "metadata": {
        "colab": {
          "base_uri": "https://localhost:8080/"
        },
        "id": "66k4yBeVA2W_",
        "outputId": "27a83ffe-95e0-4ccb-8fc3-25a82700e484"
      },
      "outputs": [
        {
          "output_type": "stream",
          "name": "stdout",
          "text": [
            "+--------------------------------------------------------------------------------------------------------------------------------------------------+-------------------------------------------------------------------------------------------------------------------------------------------------------------+---------------------------------------------------------------------------------------------------------------------------------------------------------------------------------------------------------------------------------------------------------------------------------------------+\n",
            "|cleaned_text                                                                                                                                      |finished_no_stop_lemmatized                                                                                                                                  |finished_no_stop_lemmatized_metadata                                                                                                                                                                                                                                                         |\n",
            "+--------------------------------------------------------------------------------------------------------------------------------------------------+-------------------------------------------------------------------------------------------------------------------------------------------------------------+---------------------------------------------------------------------------------------------------------------------------------------------------------------------------------------------------------------------------------------------------------------------------------------------+\n",
            "|screenshots kyiv resident                                                                                                                         |[screenshot, kyiv, resident]                                                                                                                                 |[{sentence, 0}, {sentence, 0}, {sentence, 0}]                                                                                                                                                                                                                                                |\n",
            "|irkutsk peace protester russia led police                                                                                                         |[irkutsk, peace, protester, russia, lead, police]                                                                                                            |[{sentence, 0}, {sentence, 0}, {sentence, 0}, {sentence, 0}, {sentence, 0}, {sentence, 0}]                                                                                                                                                                                                   |\n",
            "|conservative holding purim water call                                                                                                             |[conservative, hold, purim, water, call]                                                                                                                     |[{sentence, 0}, {sentence, 0}, {sentence, 0}, {sentence, 0}, {sentence, 0}]                                                                                                                                                                                                                  |\n",
            "|energodar                                                                                                                                         |[energodar]                                                                                                                                                  |[{sentence, 0}]                                                                                                                                                                                                                                                                              |\n",
            "|advice russian prisoners                                                                                                                          |[advice, russian, prisoner]                                                                                                                                  |[{sentence, 0}, {sentence, 0}, {sentence, 0}]                                                                                                                                                                                                                                                |\n",
            "|ukraine russia war ukraine civilians dead fierce fighting cities updates                                                                          |[ukraine, russia, war, ukraine, civilian, dead, fierce, fight, city, update]                                                                                 |[{sentence, 0}, {sentence, 0}, {sentence, 0}, {sentence, 0}, {sentence, 0}, {sentence, 0}, {sentence, 0}, {sentence, 0}, {sentence, 0}, {sentence, 0}]                                                                                                                                       |\n",
            "|energodar russian invaders weapons ukrainians                                                                                                     |[energodar, russian, invader, weapon, ukrainian]                                                                                                             |[{sentence, 0}, {sentence, 0}, {sentence, 0}, {sentence, 0}, {sentence, 0}]                                                                                                                                                                                                                  |\n",
            "|russian tank fires directly residential building hits person                                                                                      |[russian, tank, fire, directly, residential, build, hit, person]                                                                                             |[{sentence, 0}, {sentence, 0}, {sentence, 0}, {sentence, 0}, {sentence, 0}, {sentence, 0}, {sentence, 0}, {sentence, 0}]                                                                                                                                                                     |\n",
            "|kharkiv region territorial defence people army captured driving tank                                                                              |[kharkiv, region, territorial, defence, people, army, capture, drive, tank]                                                                                  |[{sentence, 0}, {sentence, 0}, {sentence, 0}, {sentence, 0}, {sentence, 0}, {sentence, 0}, {sentence, 0}, {sentence, 0}, {sentence, 0}]                                                                                                                                                      |\n",
            "|irkutsk peace protester russia led police                                                                                                         |[irkutsk, peace, protester, russia, lead, police]                                                                                                            |[{sentence, 0}, {sentence, 0}, {sentence, 0}, {sentence, 0}, {sentence, 0}, {sentence, 0}]                                                                                                                                                                                                   |\n",
            "|racist ukrainians letting indian students board trains                                                                                            |[racist, ukrainian, let, indian, student, board, train]                                                                                                      |[{sentence, 0}, {sentence, 0}, {sentence, 0}, {sentence, 0}, {sentence, 0}, {sentence, 0}, {sentence, 0}]                                                                                                                                                                                    |\n",
            "|russia ukraine war live civilians killed hostilities world war nuclear russian minister                                                           |[russia, ukraine, war, live, civilian, kill, hostility, world, war, nuclear, russian, minister]                                                              |[{sentence, 0}, {sentence, 0}, {sentence, 0}, {sentence, 0}, {sentence, 0}, {sentence, 0}, {sentence, 0}, {sentence, 0}, {sentence, 0}, {sentence, 0}, {sentence, 0}, {sentence, 0}]                                                                                                         |\n",
            "|russia ukraine neo nazis watch ross kemp gangs personally met russian neo nazis russia                                                            |[russia, ukraine, neo, nazi, watch, ross, kemp, gang, personally, meet, russian, neo, nazi, russia]                                                          |[{sentence, 0}, {sentence, 0}, {sentence, 0}, {sentence, 0}, {sentence, 0}, {sentence, 0}, {sentence, 0}, {sentence, 0}, {sentence, 0}, {sentence, 0}, {sentence, 0}, {sentence, 0}, {sentence, 0}, {sentence, 0}]                                                                           |\n",
            "|casualty update kyiv independent shares official reporting state emergency service civilians killed russian troops invasion ukraine began february|[casualty, update, kyiv, independent, share, official, report, state, emergency, service, civilian, kill, russian, troop, invasion, ukraine, begin, february]|[{sentence, 0}, {sentence, 0}, {sentence, 0}, {sentence, 0}, {sentence, 0}, {sentence, 0}, {sentence, 0}, {sentence, 0}, {sentence, 0}, {sentence, 0}, {sentence, 0}, {sentence, 0}, {sentence, 0}, {sentence, 0}, {sentence, 0}, {sentence, 0}, {sentence, 0}, {sentence, 0}]               |\n",
            "|appeal mothers fathers brothers sisters sons daughters fellow citizens russia                                                                     |[appeal, mother, father, brother, sister, son, daughter, fellow, citizen, russia]                                                                            |[{sentence, 0}, {sentence, 0}, {sentence, 0}, {sentence, 0}, {sentence, 0}, {sentence, 0}, {sentence, 0}, {sentence, 0}, {sentence, 0}, {sentence, 0}]                                                                                                                                       |\n",
            "|masterplan ukraine make indian students hostage india side                                                                                        |[masterplan, ukraine, make, indian, student, hostage, india, side]                                                                                           |[{sentence, 0}, {sentence, 0}, {sentence, 0}, {sentence, 0}, {sentence, 0}, {sentence, 0}, {sentence, 0}, {sentence, 0}]                                                                                                                                                                     |\n",
            "|scale ukrainian heroism russian terrorism                                                                                                         |[scale, ukrainian, heroism, russian, terrorism]                                                                                                              |[{sentence, 0}, {sentence, 0}, {sentence, 0}, {sentence, 0}, {sentence, 0}]                                                                                                                                                                                                                  |\n",
            "|masterplan ukraine make indian students hostage india side                                                                                        |[masterplan, ukraine, make, indian, student, hostage, india, side]                                                                                           |[{sentence, 0}, {sentence, 0}, {sentence, 0}, {sentence, 0}, {sentence, 0}, {sentence, 0}, {sentence, 0}, {sentence, 0}]                                                                                                                                                                     |\n",
            "|war ukraine fated end russian civil war fsb helps stop zelensky assassins                                                                         |[war, ukraine, fate, end, russian, civil, war, fsb, help, stop, zelensky, assassin]                                                                          |[{sentence, 0}, {sentence, 0}, {sentence, 0}, {sentence, 0}, {sentence, 0}, {sentence, 0}, {sentence, 0}, {sentence, 0}, {sentence, 0}, {sentence, 0}, {sentence, 0}, {sentence, 0}]                                                                                                         |\n",
            "|russian delegation city konotop negotiate surrender effectively city destroyed fighting lead russian soldier walking hand grenades held air pins  |[russian, delegation, city, konotop, negotiate, surrender, effectively, city, destroy, fight, lead, russian, soldier, walk, hand, grenade, hold, air, pin]   |[{sentence, 0}, {sentence, 0}, {sentence, 0}, {sentence, 0}, {sentence, 0}, {sentence, 0}, {sentence, 0}, {sentence, 0}, {sentence, 0}, {sentence, 0}, {sentence, 0}, {sentence, 0}, {sentence, 0}, {sentence, 0}, {sentence, 0}, {sentence, 0}, {sentence, 0}, {sentence, 0}, {sentence, 0}]|\n",
            "+--------------------------------------------------------------------------------------------------------------------------------------------------+-------------------------------------------------------------------------------------------------------------------------------------------------------------+---------------------------------------------------------------------------------------------------------------------------------------------------------------------------------------------------------------------------------------------------------------------------------------------+\n",
            "only showing top 20 rows\n",
            "\n"
          ]
        }
      ],
      "source": [
        "processed_text.show(truncate=False)"
      ]
    },
    {
      "cell_type": "code",
      "execution_count": 19,
      "metadata": {
        "id": "rxMt0cOiBHgh"
      },
      "outputs": [],
      "source": [
        "from pyspark.ml.feature import CountVectorizer\n",
        "tfizer = CountVectorizer(inputCol='finished_no_stop_lemmatized',\n",
        "                         outputCol='tf_features')\n",
        "tf_model = tfizer.fit(processed_text)\n",
        "tf_result = tf_model.transform(processed_text)"
      ]
    },
    {
      "cell_type": "code",
      "execution_count": 20,
      "metadata": {
        "id": "DE1DcEawBgAC"
      },
      "outputs": [],
      "source": [
        "from pyspark.ml.feature import IDF\n",
        "idfizer = IDF(inputCol='tf_features', \n",
        "              outputCol='tf_idf_features')\n",
        "idf_model = idfizer.fit(tf_result)\n",
        "tfidf_result = idf_model.transform(tf_result)"
      ]
    },
    {
      "cell_type": "code",
      "execution_count": 21,
      "metadata": {
        "id": "Jd1hVsAhE75B"
      },
      "outputs": [],
      "source": [
        "from pyspark.ml.clustering import LDA\n",
        "num_topics = 10\n",
        "max_iter = 10\n",
        "lda = LDA(k=num_topics, \n",
        "          maxIter=max_iter, \n",
        "          featuresCol='tf_idf_features')\n",
        "lda_model = lda.fit(tfidf_result)"
      ]
    },
    {
      "cell_type": "code",
      "execution_count": 22,
      "metadata": {
        "id": "cjb0uNbdHxxo"
      },
      "outputs": [],
      "source": [
        "import pyspark.sql.types as T\n",
        "\n",
        "vocab = tf_model.vocabulary\n",
        "\n",
        "def get_words(token_list):\n",
        "    return [vocab[token_id] for token_id in token_list]\n",
        "\n",
        "udf_to_words = F.udf(get_words, T.ArrayType(T.StringType()))"
      ]
    },
    {
      "cell_type": "code",
      "execution_count": 23,
      "metadata": {
        "colab": {
          "base_uri": "https://localhost:8080/"
        },
        "id": "jxVdfjReI4zn",
        "outputId": "2b6c8326-260e-44e6-ddfc-998a94940c2d"
      },
      "outputs": [
        {
          "output_type": "stream",
          "name": "stdout",
          "text": [
            "+-----+----------------------------------------------------------------------------------------+\n",
            "|topic|                                                                              topicWords|\n",
            "+-----+----------------------------------------------------------------------------------------+\n",
            "|    0|[russian, ukrainian, ukraine, mariupol, azov, azovstal, commander, war, video, military]|\n",
            "|    1|      [war, russia, ukraine, putin, country, world, people, russian, support, ukrainian]|\n",
            "|    2|            [ukraine, russia, russian, refugee, oil, germany, ukrainian, gas, aid, kyiv]|\n",
            "|    3|    [moskva, russian, sink, column, ukrainian, ka, warship, belarusian, russia, ukraine]|\n",
            "|    4|     [russian, ukrainian, ukraine, force, call, donetsk, street, russia, region, people]|\n",
            "|    5|   [russian, ukrainian, tank, destroy, shoot, vehicle, ukraine, soldier, capture, force]|\n",
            "|    6|   [island, russian, ukraine, snake, explosion, report, russia, bayraktar, news, remove]|\n",
            "|    7|[force, ukraine, russian, ukrainian, arm, defense, destroy, military, russia, equipment]|\n",
            "|    8|  [company, ukraine, russian, russia, ukrainian, anonymous, war, website, channel, hack]|\n",
            "|    9|        [russian, ukraine, russia, ukrainian, war, day, people, soldier, putin, nuclear]|\n",
            "+-----+----------------------------------------------------------------------------------------+\n",
            "\n"
          ]
        }
      ],
      "source": [
        "num_top_words = 10\n",
        "\n",
        "topics = lda_model  \\\n",
        "     .describeTopics(num_top_words) \\\n",
        "     .withColumn('topicWords', udf_to_words(F.col('termIndices')))\n",
        "\n",
        "topics.select('topic', 'topicWords').show(truncate=100)"
      ]
    },
    {
      "cell_type": "code",
      "execution_count": 24,
      "metadata": {
        "colab": {
          "base_uri": "https://localhost:8080/"
        },
        "id": "WRddIRJ07QsG",
        "outputId": "aaff1a7e-0292-4b0a-b29c-1c7a352e9684"
      },
      "outputs": [
        {
          "output_type": "stream",
          "name": "stdout",
          "text": [
            "+-----+-------------------------------------------+--------------------------------------------------+--------------------------------------------------+\n",
            "|topic|                                termIndices|                                       termWeights|                                        topicWords|\n",
            "+-----+-------------------------------------------+--------------------------------------------------+--------------------------------------------------+\n",
            "|    0|     [0, 2, 1, 23, 215, 357, 278, 4, 11, 9]|[0.005709059745626543, 0.005301373300482019, 0....|[russian, ukrainian, ukraine, mariupol, azov, a...|\n",
            "|    1|          [4, 3, 1, 5, 18, 20, 7, 0, 19, 2]|[0.008949821000815665, 0.008219826278652163, 0....|[war, russia, ukraine, putin, country, world, p...|\n",
            "|    2|    [1, 3, 0, 81, 187, 87, 2, 174, 129, 10]|[0.006497638444603341, 0.0056682578983063454, 0...|[ukraine, russia, russian, refugee, oil, german...|\n",
            "|    3|[619, 0, 703, 468, 2, 1318, 595, 548, 3, 1]|[0.0055702575532582755, 0.005179240930004068, 0...|[moskva, russian, sink, column, ukrainian, ka, ...|\n",
            "|    4|       [0, 2, 1, 6, 40, 153, 277, 3, 27, 7]|[0.007227608580864028, 0.005213270191716519, 0....|[russian, ukrainian, ukraine, force, call, done...|\n",
            "|    5|        [0, 2, 15, 12, 50, 60, 1, 8, 52, 6]|[0.011724720223785175, 0.011531066795242153, 0....|[russian, ukrainian, tank, destroy, shoot, vehi...|\n",
            "|    6| [436, 0, 1, 628, 224, 39, 3, 669, 37, 386]|[0.00658850650201672, 0.00556899778479468, 0.00...|[island, russian, ukraine, snake, explosion, re...|\n",
            "|    7|         [6, 1, 0, 2, 28, 44, 12, 9, 3, 89]|[0.00925659956656793, 0.007111143121943881, 0.0...|[force, ukraine, russian, ukrainian, arm, defen...|\n",
            "|    8|   [202, 1, 0, 3, 2, 677, 4, 550, 281, 848]|[0.005135917696542719, 0.004223082180695549, 0....|[company, ukraine, russian, russia, ukrainian, ...|\n",
            "|    9|           [0, 1, 3, 2, 4, 16, 7, 8, 5, 70]|[0.007629732031174254, 0.007386667714073906, 0....|[russian, ukraine, russia, ukrainian, war, day,...|\n",
            "+-----+-------------------------------------------+--------------------------------------------------+--------------------------------------------------+\n",
            "\n"
          ]
        }
      ],
      "source": [
        "topics.show(truncate=50)"
      ]
    },
    {
      "cell_type": "markdown",
      "metadata": {
        "id": "OGqzt0miFLRG"
      },
      "source": [
        "<br>\n",
        "<br>\n",
        "<br>\n",
        "<br>\n",
        "<br>\n",
        "<br>\n",
        "\n",
        "#### **1.3 Model Tuning - Refilter Stopwords**\n",
        "---"
      ]
    },
    {
      "cell_type": "code",
      "execution_count": 45,
      "metadata": {
        "id": "RgeZrXS8FTDU"
      },
      "outputs": [],
      "source": [
        "# Add stopwords\n",
        "new_stop_words = ['russia','russian','ukraine','ukrainian','delete', 'http', 'https', 'amp', 'rt', 'rp']\n",
        "eng_stopwords_v2 = eng_stopwords + new_stop_words"
      ]
    },
    {
      "cell_type": "code",
      "execution_count": 46,
      "metadata": {
        "id": "EQR2B74kFTTI"
      },
      "outputs": [],
      "source": [
        "# Setup NEW stop words cleaner\n",
        "from sparknlp.annotator import StopWordsCleaner\n",
        "stopwords_cleaner_v2 = StopWordsCleaner() \\\n",
        "     .setInputCols(['lemmatized']) \\\n",
        "     .setOutputCol('no_stop_lemmatized') \\\n",
        "     .setStopWords(eng_stopwords_v2)"
      ]
    },
    {
      "cell_type": "code",
      "execution_count": 47,
      "metadata": {
        "id": "3S6R1EeeFTWo"
      },
      "outputs": [],
      "source": [
        "# Define NEW pipeline\n",
        "from pyspark.ml import Pipeline\n",
        "pipeline = Pipeline() \\\n",
        "     .setStages([documentAssembler,\n",
        "                 tokenizer,\n",
        "                 normalizer,\n",
        "                 lemmatizer,\n",
        "                 stopwords_cleaner_v2,\n",
        "                 finisher,\n",
        "                 tfizer,\n",
        "                 idfizer])"
      ]
    },
    {
      "cell_type": "code",
      "execution_count": 48,
      "metadata": {
        "id": "g39_M5LJFTZ-"
      },
      "outputs": [],
      "source": [
        "processed_text_v2 = pipeline.fit(text).transform(text)"
      ]
    },
    {
      "cell_type": "code",
      "execution_count": 49,
      "metadata": {
        "colab": {
          "base_uri": "https://localhost:8080/"
        },
        "id": "LCsF4NmRJAKf",
        "outputId": "4717444f-87d8-4c62-8893-a50e9ebcfa99"
      },
      "outputs": [
        {
          "output_type": "stream",
          "name": "stdout",
          "text": [
            "+-----+----------------------------------------------------------------------------------------------------+---------------------------------------------------------------------------------------------+\n",
            "|topic|                                                                                         termWeights|                                                                                   topicWords|\n",
            "+-----+----------------------------------------------------------------------------------------------------+---------------------------------------------------------------------------------------------+\n",
            "|    0|[0.008975979205910175, 0.005557241368696533, 0.005451925767971982, 0.004859297651399427, 0.004142...|                   [place, push, discuss, airport, bit, record, term, assistance, rally, war]|\n",
            "|    1|[0.008909714252280978, 0.006852496832615221, 0.006639220920359529, 0.006166176732697866, 0.006079...|                 [kill, ukrainian, soldier, shoot, defense, nato, capture, stop, hit, people]|\n",
            "|    2|[0.006108344746950382, 0.005252819717860186, 0.004464674289983506, 0.004175785568598022, 0.004155...|            [russia, ukraine, russian, war, destroy, army, kyiv, military, support, minister]|\n",
            "|    3|[0.0047283330751832905, 0.003904982906559702, 0.00387336727684311, 0.0037416881921481216, 0.00361...|                [speak, prosecutor, word, yacht, regular, honor, kyiv, regime, employee, bro]|\n",
            "|    4|[0.00844458467353643, 0.005544773065557001, 0.00525552796811229, 0.004377240649092391, 0.00394106...|                  [russian, ukraine, fight, show, putin, region, military, post, day, russia]|\n",
            "|    5|[0.005345558722541726, 0.004992942513716196, 0.0045286686059802, 0.004321529962791451, 0.00427028...|                 [equipment, war, fall, include, appear, form, make, separatist, hard, total]|\n",
            "|    6|[0.004074573133810485, 0.0039294400788458805, 0.003911123183144024, 0.003903962692236008, 0.00374...|        [czech, throw, important, attention, chernobyl, ukraini, man, approach, nurse, usual]|\n",
            "|    7|[0.006020052298709502, 0.005273276338271798, 0.004340772039876304, 0.0035075216756003023, 0.00323...|[council, canadian, protect, occupy, potential, georgia, promise, absolutely, hope, argument]|\n",
            "|    8|[0.005068398683508662, 0.00460546098054688, 0.004084552586238352, 0.00399833435443156, 0.00377935...|                    [zone, american, ukrainian, sea, letter, drone, dig, suspect, era, troop]|\n",
            "|    9|[0.007636010784562145, 0.006650113480060524, 0.006097482856073001, 0.004821047911649542, 0.004384...|                [video, long, missile, ukraine, weapon, citizen, russian, tank, west, strike]|\n",
            "|   10|[0.008593735395061529, 0.0064148696686669, 0.004707702145856698, 0.004382171799752076, 0.00393362...|                     [run, truth, grain, crazy, land, depot, process, track, russian, russia]|\n",
            "|   11|[0.008354115493930595, 0.006510057710039214, 0.005571258015006637, 0.004752140974784835, 0.004676...|                [shelter, demand, child, work, fly, border, charge, pentagon, ukrainian, war]|\n",
            "|   12|[0.004470894729211706, 0.004446662290624596, 0.004283137991547419, 0.00420107266759278, 0.0039453...|             [st, journalist, boy, spot, criminal, thoughts, age, ukraine, russian, civilian]|\n",
            "|   13|[0.007761828979625665, 0.00574731196329464, 0.005711405377190017, 0.005607686739208009, 0.0050218...|                     [cut, talk, video, soldier, search, bucha, attack, putin, alive, morale]|\n",
            "|   14|[0.0061448055421767615, 0.006034823947403565, 0.0050608308730184055, 0.005007171113332515, 0.0046...|         [support, mariupol, force, ukrainian, friend, threat, build, village, visit, attack]|\n",
            "+-----+----------------------------------------------------------------------------------------------------+---------------------------------------------------------------------------------------------+\n",
            "\n"
          ]
        }
      ],
      "source": [
        "# Define NEW LDA model\n",
        "num_topics = 15\n",
        "max_iter = 10\n",
        "num_top_words = 10\n",
        "\n",
        "lda_v2 = LDA(k=num_topics, \n",
        "          maxIter=max_iter, \n",
        "          featuresCol='tf_idf_features')\n",
        "lda_model_v2 = lda_v2.fit(processed_text_v2)\n",
        "\n",
        "topics_v2 = lda_model_v2  \\\n",
        "     .describeTopics(num_top_words) \\\n",
        "     .withColumn('topicWords', udf_to_words(F.col('termIndices')))\n",
        "\n",
        "topics_v2.select('topic', 'termWeights', 'topicWords').show(truncate=100)"
      ]
    },
    {
      "cell_type": "code",
      "execution_count": 50,
      "metadata": {
        "id": "7E1T15LeFTje"
      },
      "outputs": [],
      "source": [
        "test = topics_v2.toPandas()"
      ]
    },
    {
      "cell_type": "code",
      "execution_count": 51,
      "metadata": {
        "id": "1uBjXmhHFTzT"
      },
      "outputs": [],
      "source": [
        "test['zipped'] =  test.apply(lambda row: list(zip(row[3], row[2])), axis=1)\n",
        "test.drop(['termIndices','termWeights','topicWords'], axis=1, inplace=True)"
      ]
    },
    {
      "cell_type": "code",
      "execution_count": 52,
      "metadata": {
        "colab": {
          "base_uri": "https://localhost:8080/"
        },
        "id": "aTRI15osFT2c",
        "outputId": "4d516d9e-f3d6-4739-fc70-f54a14bb8083"
      },
      "outputs": [
        {
          "output_type": "execute_result",
          "data": {
            "text/plain": [
              "pandas.core.frame.DataFrame"
            ]
          },
          "metadata": {},
          "execution_count": 52
        }
      ],
      "source": [
        "type(test)"
      ]
    },
    {
      "cell_type": "code",
      "execution_count": 53,
      "metadata": {
        "colab": {
          "base_uri": "https://localhost:8080/",
          "height": 206
        },
        "id": "JK5lQCvkSGU6",
        "outputId": "32266d9c-e140-4f3c-d224-d5a8365b4e85"
      },
      "outputs": [
        {
          "output_type": "execute_result",
          "data": {
            "text/plain": [
              "   topic                                             zipped\n",
              "0      0  [(place, 0.008975979205910175), (push, 0.00555...\n",
              "1      1  [(kill, 0.008909714252280978), (ukrainian, 0.0...\n",
              "2      2  [(russia, 0.006108344746950382), (ukraine, 0.0...\n",
              "3      3  [(speak, 0.0047283330751832905), (prosecutor, ...\n",
              "4      4  [(russian, 0.00844458467353643), (ukraine, 0.0..."
            ],
            "text/html": [
              "\n",
              "  <div id=\"df-76730f8d-f9be-4241-beba-38f11204a252\">\n",
              "    <div class=\"colab-df-container\">\n",
              "      <div>\n",
              "<style scoped>\n",
              "    .dataframe tbody tr th:only-of-type {\n",
              "        vertical-align: middle;\n",
              "    }\n",
              "\n",
              "    .dataframe tbody tr th {\n",
              "        vertical-align: top;\n",
              "    }\n",
              "\n",
              "    .dataframe thead th {\n",
              "        text-align: right;\n",
              "    }\n",
              "</style>\n",
              "<table border=\"1\" class=\"dataframe\">\n",
              "  <thead>\n",
              "    <tr style=\"text-align: right;\">\n",
              "      <th></th>\n",
              "      <th>topic</th>\n",
              "      <th>zipped</th>\n",
              "    </tr>\n",
              "  </thead>\n",
              "  <tbody>\n",
              "    <tr>\n",
              "      <th>0</th>\n",
              "      <td>0</td>\n",
              "      <td>[(place, 0.008975979205910175), (push, 0.00555...</td>\n",
              "    </tr>\n",
              "    <tr>\n",
              "      <th>1</th>\n",
              "      <td>1</td>\n",
              "      <td>[(kill, 0.008909714252280978), (ukrainian, 0.0...</td>\n",
              "    </tr>\n",
              "    <tr>\n",
              "      <th>2</th>\n",
              "      <td>2</td>\n",
              "      <td>[(russia, 0.006108344746950382), (ukraine, 0.0...</td>\n",
              "    </tr>\n",
              "    <tr>\n",
              "      <th>3</th>\n",
              "      <td>3</td>\n",
              "      <td>[(speak, 0.0047283330751832905), (prosecutor, ...</td>\n",
              "    </tr>\n",
              "    <tr>\n",
              "      <th>4</th>\n",
              "      <td>4</td>\n",
              "      <td>[(russian, 0.00844458467353643), (ukraine, 0.0...</td>\n",
              "    </tr>\n",
              "  </tbody>\n",
              "</table>\n",
              "</div>\n",
              "      <button class=\"colab-df-convert\" onclick=\"convertToInteractive('df-76730f8d-f9be-4241-beba-38f11204a252')\"\n",
              "              title=\"Convert this dataframe to an interactive table.\"\n",
              "              style=\"display:none;\">\n",
              "        \n",
              "  <svg xmlns=\"http://www.w3.org/2000/svg\" height=\"24px\"viewBox=\"0 0 24 24\"\n",
              "       width=\"24px\">\n",
              "    <path d=\"M0 0h24v24H0V0z\" fill=\"none\"/>\n",
              "    <path d=\"M18.56 5.44l.94 2.06.94-2.06 2.06-.94-2.06-.94-.94-2.06-.94 2.06-2.06.94zm-11 1L8.5 8.5l.94-2.06 2.06-.94-2.06-.94L8.5 2.5l-.94 2.06-2.06.94zm10 10l.94 2.06.94-2.06 2.06-.94-2.06-.94-.94-2.06-.94 2.06-2.06.94z\"/><path d=\"M17.41 7.96l-1.37-1.37c-.4-.4-.92-.59-1.43-.59-.52 0-1.04.2-1.43.59L10.3 9.45l-7.72 7.72c-.78.78-.78 2.05 0 2.83L4 21.41c.39.39.9.59 1.41.59.51 0 1.02-.2 1.41-.59l7.78-7.78 2.81-2.81c.8-.78.8-2.07 0-2.86zM5.41 20L4 18.59l7.72-7.72 1.47 1.35L5.41 20z\"/>\n",
              "  </svg>\n",
              "      </button>\n",
              "      \n",
              "  <style>\n",
              "    .colab-df-container {\n",
              "      display:flex;\n",
              "      flex-wrap:wrap;\n",
              "      gap: 12px;\n",
              "    }\n",
              "\n",
              "    .colab-df-convert {\n",
              "      background-color: #E8F0FE;\n",
              "      border: none;\n",
              "      border-radius: 50%;\n",
              "      cursor: pointer;\n",
              "      display: none;\n",
              "      fill: #1967D2;\n",
              "      height: 32px;\n",
              "      padding: 0 0 0 0;\n",
              "      width: 32px;\n",
              "    }\n",
              "\n",
              "    .colab-df-convert:hover {\n",
              "      background-color: #E2EBFA;\n",
              "      box-shadow: 0px 1px 2px rgba(60, 64, 67, 0.3), 0px 1px 3px 1px rgba(60, 64, 67, 0.15);\n",
              "      fill: #174EA6;\n",
              "    }\n",
              "\n",
              "    [theme=dark] .colab-df-convert {\n",
              "      background-color: #3B4455;\n",
              "      fill: #D2E3FC;\n",
              "    }\n",
              "\n",
              "    [theme=dark] .colab-df-convert:hover {\n",
              "      background-color: #434B5C;\n",
              "      box-shadow: 0px 1px 3px 1px rgba(0, 0, 0, 0.15);\n",
              "      filter: drop-shadow(0px 1px 2px rgba(0, 0, 0, 0.3));\n",
              "      fill: #FFFFFF;\n",
              "    }\n",
              "  </style>\n",
              "\n",
              "      <script>\n",
              "        const buttonEl =\n",
              "          document.querySelector('#df-76730f8d-f9be-4241-beba-38f11204a252 button.colab-df-convert');\n",
              "        buttonEl.style.display =\n",
              "          google.colab.kernel.accessAllowed ? 'block' : 'none';\n",
              "\n",
              "        async function convertToInteractive(key) {\n",
              "          const element = document.querySelector('#df-76730f8d-f9be-4241-beba-38f11204a252');\n",
              "          const dataTable =\n",
              "            await google.colab.kernel.invokeFunction('convertToInteractive',\n",
              "                                                     [key], {});\n",
              "          if (!dataTable) return;\n",
              "\n",
              "          const docLinkHtml = 'Like what you see? Visit the ' +\n",
              "            '<a target=\"_blank\" href=https://colab.research.google.com/notebooks/data_table.ipynb>data table notebook</a>'\n",
              "            + ' to learn more about interactive tables.';\n",
              "          element.innerHTML = '';\n",
              "          dataTable['output_type'] = 'display_data';\n",
              "          await google.colab.output.renderOutput(dataTable, element);\n",
              "          const docLink = document.createElement('div');\n",
              "          docLink.innerHTML = docLinkHtml;\n",
              "          element.appendChild(docLink);\n",
              "        }\n",
              "      </script>\n",
              "    </div>\n",
              "  </div>\n",
              "  "
            ]
          },
          "metadata": {},
          "execution_count": 53
        }
      ],
      "source": [
        "test.head()"
      ]
    },
    {
      "cell_type": "code",
      "execution_count": 54,
      "metadata": {
        "colab": {
          "base_uri": "https://localhost:8080/"
        },
        "id": "Xubz5N93m5zq",
        "outputId": "8ad685d3-bb39-49e7-d9cc-2ed1fbf58a94"
      },
      "outputs": [
        {
          "output_type": "execute_result",
          "data": {
            "text/plain": [
              "0     [(place, 0.008975979205910175), (push, 0.00555...\n",
              "1     [(kill, 0.008909714252280978), (ukrainian, 0.0...\n",
              "2     [(russia, 0.006108344746950382), (ukraine, 0.0...\n",
              "3     [(speak, 0.0047283330751832905), (prosecutor, ...\n",
              "4     [(russian, 0.00844458467353643), (ukraine, 0.0...\n",
              "5     [(equipment, 0.005345558722541726), (war, 0.00...\n",
              "6     [(czech, 0.004074573133810485), (throw, 0.0039...\n",
              "7     [(council, 0.006020052298709502), (canadian, 0...\n",
              "8     [(zone, 0.005068398683508662), (american, 0.00...\n",
              "9     [(video, 0.007636010784562145), (long, 0.00665...\n",
              "10    [(run, 0.008593735395061529), (truth, 0.006414...\n",
              "11    [(shelter, 0.008354115493930595), (demand, 0.0...\n",
              "12    [(st, 0.004470894729211706), (journalist, 0.00...\n",
              "13    [(cut, 0.007761828979625665), (talk, 0.0057473...\n",
              "14    [(support, 0.0061448055421767615), (mariupol, ...\n",
              "Name: zipped, dtype: object"
            ]
          },
          "metadata": {},
          "execution_count": 54
        }
      ],
      "source": [
        "test['zipped']"
      ]
    },
    {
      "cell_type": "code",
      "execution_count": 55,
      "metadata": {
        "id": "HkGrH_Pym5xE"
      },
      "outputs": [],
      "source": [
        "words, probs = [], []\n",
        "for topic in range(len(test['zipped'])):\n",
        "  words.append([t[0] for t in test['zipped'][topic]])\n",
        "  probs.append([t[1] for t in test['zipped'][topic]])"
      ]
    },
    {
      "cell_type": "code",
      "execution_count": 56,
      "metadata": {
        "colab": {
          "base_uri": "https://localhost:8080/",
          "height": 513
        },
        "id": "v9s_J7SDOVu7",
        "outputId": "d78e8e85-ca9d-4192-9083-c84e1050700b"
      },
      "outputs": [
        {
          "output_type": "display_data",
          "data": {
            "text/plain": [
              "<Figure size 1080x504 with 1 Axes>"
            ],
            "image/png": "[encoded data removed]"
          },
          "metadata": {
            "needs_background": "light"
          }
        }
      ],
      "source": [
        "fig, ax = plt.subplots(figsize=(15, 7))\n",
        "sns.heatmap(pd.DataFrame(probs).T,\n",
        "            annot = pd.DataFrame(words).T,\n",
        "            fmt='',\n",
        "            ax=ax,\n",
        "            cmap='Blues',\n",
        "            cbar=False)\n",
        "sns.despine()\n",
        "fig.tight_layout()"
      ]
    },
    {
      "cell_type": "code",
      "execution_count": 40,
      "metadata": {
        "id": "At9Xl2HHsIpY"
      },
      "outputs": [],
      "source": [
        "test2 = test.explode('zipped')"
      ]
    },
    {
      "cell_type": "code",
      "execution_count": 41,
      "metadata": {
        "colab": {
          "base_uri": "https://localhost:8080/"
        },
        "id": "oFSZtkoSsNm8",
        "outputId": "30e98cb9-cccc-454c-b9a7-a37ddc64cccb"
      },
      "outputs": [
        {
          "output_type": "stream",
          "name": "stderr",
          "text": [
            "/usr/local/lib/python3.7/dist-packages/ipykernel_launcher.py:1: FutureWarning: Columnar iteration over characters will be deprecated in future releases.\n",
            "  \"\"\"Entry point for launching an IPython kernel.\n"
          ]
        }
      ],
      "source": [
        "test2['word'], test2['prob'] = test2.zipped.str"
      ]
    },
    {
      "cell_type": "code",
      "execution_count": 42,
      "metadata": {
        "colab": {
          "base_uri": "https://localhost:8080/",
          "height": 424
        },
        "id": "AVkV3yxhsQHn",
        "outputId": "625b9247-b3aa-4c43-9dfd-719e8f030600"
      },
      "outputs": [
        {
          "output_type": "execute_result",
          "data": {
            "text/plain": [
              "    topic                            zipped     word      prob\n",
              "0       0     (place, 0.013392915260716749)    place  0.013393\n",
              "0       0      (girl, 0.008214361733390034)     girl  0.008214\n",
              "0       0     (young, 0.005860562013874368)    young  0.005861\n",
              "0       0      (push, 0.004820490536064717)     push  0.004820\n",
              "0       0        (war, 0.00421997869564908)      war  0.004220\n",
              "..    ...                               ...      ...       ...\n",
              "14     14      (run, 0.0036935563927242634)      run  0.003694\n",
              "14     14  (missile, 0.0035176814933305504)  missile  0.003518\n",
              "14     14     (world, 0.003428375057460459)    world  0.003428\n",
              "14     14   (happen, 0.0033393012203885354)   happen  0.003339\n",
              "14     14     (fight, 0.003312017070800821)    fight  0.003312\n",
              "\n",
              "[150 rows x 4 columns]"
            ],
            "text/html": [
              "\n",
              "  <div id=\"df-f597fdef-ea47-454f-a286-67f8f564ab5d\">\n",
              "    <div class=\"colab-df-container\">\n",
              "      <div>\n",
              "<style scoped>\n",
              "    .dataframe tbody tr th:only-of-type {\n",
              "        vertical-align: middle;\n",
              "    }\n",
              "\n",
              "    .dataframe tbody tr th {\n",
              "        vertical-align: top;\n",
              "    }\n",
              "\n",
              "    .dataframe thead th {\n",
              "        text-align: right;\n",
              "    }\n",
              "</style>\n",
              "<table border=\"1\" class=\"dataframe\">\n",
              "  <thead>\n",
              "    <tr style=\"text-align: right;\">\n",
              "      <th></th>\n",
              "      <th>topic</th>\n",
              "      <th>zipped</th>\n",
              "      <th>word</th>\n",
              "      <th>prob</th>\n",
              "    </tr>\n",
              "  </thead>\n",
              "  <tbody>\n",
              "    <tr>\n",
              "      <th>0</th>\n",
              "      <td>0</td>\n",
              "      <td>(place, 0.013392915260716749)</td>\n",
              "      <td>place</td>\n",
              "      <td>0.013393</td>\n",
              "    </tr>\n",
              "    <tr>\n",
              "      <th>0</th>\n",
              "      <td>0</td>\n",
              "      <td>(girl, 0.008214361733390034)</td>\n",
              "      <td>girl</td>\n",
              "      <td>0.008214</td>\n",
              "    </tr>\n",
              "    <tr>\n",
              "      <th>0</th>\n",
              "      <td>0</td>\n",
              "      <td>(young, 0.005860562013874368)</td>\n",
              "      <td>young</td>\n",
              "      <td>0.005861</td>\n",
              "    </tr>\n",
              "    <tr>\n",
              "      <th>0</th>\n",
              "      <td>0</td>\n",
              "      <td>(push, 0.004820490536064717)</td>\n",
              "      <td>push</td>\n",
              "      <td>0.004820</td>\n",
              "    </tr>\n",
              "    <tr>\n",
              "      <th>0</th>\n",
              "      <td>0</td>\n",
              "      <td>(war, 0.00421997869564908)</td>\n",
              "      <td>war</td>\n",
              "      <td>0.004220</td>\n",
              "    </tr>\n",
              "    <tr>\n",
              "      <th>...</th>\n",
              "      <td>...</td>\n",
              "      <td>...</td>\n",
              "      <td>...</td>\n",
              "      <td>...</td>\n",
              "    </tr>\n",
              "    <tr>\n",
              "      <th>14</th>\n",
              "      <td>14</td>\n",
              "      <td>(run, 0.0036935563927242634)</td>\n",
              "      <td>run</td>\n",
              "      <td>0.003694</td>\n",
              "    </tr>\n",
              "    <tr>\n",
              "      <th>14</th>\n",
              "      <td>14</td>\n",
              "      <td>(missile, 0.0035176814933305504)</td>\n",
              "      <td>missile</td>\n",
              "      <td>0.003518</td>\n",
              "    </tr>\n",
              "    <tr>\n",
              "      <th>14</th>\n",
              "      <td>14</td>\n",
              "      <td>(world, 0.003428375057460459)</td>\n",
              "      <td>world</td>\n",
              "      <td>0.003428</td>\n",
              "    </tr>\n",
              "    <tr>\n",
              "      <th>14</th>\n",
              "      <td>14</td>\n",
              "      <td>(happen, 0.0033393012203885354)</td>\n",
              "      <td>happen</td>\n",
              "      <td>0.003339</td>\n",
              "    </tr>\n",
              "    <tr>\n",
              "      <th>14</th>\n",
              "      <td>14</td>\n",
              "      <td>(fight, 0.003312017070800821)</td>\n",
              "      <td>fight</td>\n",
              "      <td>0.003312</td>\n",
              "    </tr>\n",
              "  </tbody>\n",
              "</table>\n",
              "<p>150 rows × 4 columns</p>\n",
              "</div>\n",
              "      <button class=\"colab-df-convert\" onclick=\"convertToInteractive('df-f597fdef-ea47-454f-a286-67f8f564ab5d')\"\n",
              "              title=\"Convert this dataframe to an interactive table.\"\n",
              "              style=\"display:none;\">\n",
              "        \n",
              "  <svg xmlns=\"http://www.w3.org/2000/svg\" height=\"24px\"viewBox=\"0 0 24 24\"\n",
              "       width=\"24px\">\n",
              "    <path d=\"M0 0h24v24H0V0z\" fill=\"none\"/>\n",
              "    <path d=\"M18.56 5.44l.94 2.06.94-2.06 2.06-.94-2.06-.94-.94-2.06-.94 2.06-2.06.94zm-11 1L8.5 8.5l.94-2.06 2.06-.94-2.06-.94L8.5 2.5l-.94 2.06-2.06.94zm10 10l.94 2.06.94-2.06 2.06-.94-2.06-.94-.94-2.06-.94 2.06-2.06.94z\"/><path d=\"M17.41 7.96l-1.37-1.37c-.4-.4-.92-.59-1.43-.59-.52 0-1.04.2-1.43.59L10.3 9.45l-7.72 7.72c-.78.78-.78 2.05 0 2.83L4 21.41c.39.39.9.59 1.41.59.51 0 1.02-.2 1.41-.59l7.78-7.78 2.81-2.81c.8-.78.8-2.07 0-2.86zM5.41 20L4 18.59l7.72-7.72 1.47 1.35L5.41 20z\"/>\n",
              "  </svg>\n",
              "      </button>\n",
              "      \n",
              "  <style>\n",
              "    .colab-df-container {\n",
              "      display:flex;\n",
              "      flex-wrap:wrap;\n",
              "      gap: 12px;\n",
              "    }\n",
              "\n",
              "    .colab-df-convert {\n",
              "      background-color: #E8F0FE;\n",
              "      border: none;\n",
              "      border-radius: 50%;\n",
              "      cursor: pointer;\n",
              "      display: none;\n",
              "      fill: #1967D2;\n",
              "      height: 32px;\n",
              "      padding: 0 0 0 0;\n",
              "      width: 32px;\n",
              "    }\n",
              "\n",
              "    .colab-df-convert:hover {\n",
              "      background-color: #E2EBFA;\n",
              "      box-shadow: 0px 1px 2px rgba(60, 64, 67, 0.3), 0px 1px 3px 1px rgba(60, 64, 67, 0.15);\n",
              "      fill: #174EA6;\n",
              "    }\n",
              "\n",
              "    [theme=dark] .colab-df-convert {\n",
              "      background-color: #3B4455;\n",
              "      fill: #D2E3FC;\n",
              "    }\n",
              "\n",
              "    [theme=dark] .colab-df-convert:hover {\n",
              "      background-color: #434B5C;\n",
              "      box-shadow: 0px 1px 3px 1px rgba(0, 0, 0, 0.15);\n",
              "      filter: drop-shadow(0px 1px 2px rgba(0, 0, 0, 0.3));\n",
              "      fill: #FFFFFF;\n",
              "    }\n",
              "  </style>\n",
              "\n",
              "      <script>\n",
              "        const buttonEl =\n",
              "          document.querySelector('#df-f597fdef-ea47-454f-a286-67f8f564ab5d button.colab-df-convert');\n",
              "        buttonEl.style.display =\n",
              "          google.colab.kernel.accessAllowed ? 'block' : 'none';\n",
              "\n",
              "        async function convertToInteractive(key) {\n",
              "          const element = document.querySelector('#df-f597fdef-ea47-454f-a286-67f8f564ab5d');\n",
              "          const dataTable =\n",
              "            await google.colab.kernel.invokeFunction('convertToInteractive',\n",
              "                                                     [key], {});\n",
              "          if (!dataTable) return;\n",
              "\n",
              "          const docLinkHtml = 'Like what you see? Visit the ' +\n",
              "            '<a target=\"_blank\" href=https://colab.research.google.com/notebooks/data_table.ipynb>data table notebook</a>'\n",
              "            + ' to learn more about interactive tables.';\n",
              "          element.innerHTML = '';\n",
              "          dataTable['output_type'] = 'display_data';\n",
              "          await google.colab.output.renderOutput(dataTable, element);\n",
              "          const docLink = document.createElement('div');\n",
              "          docLink.innerHTML = docLinkHtml;\n",
              "          element.appendChild(docLink);\n",
              "        }\n",
              "      </script>\n",
              "    </div>\n",
              "  </div>\n",
              "  "
            ]
          },
          "metadata": {},
          "execution_count": 42
        }
      ],
      "source": [
        "test2"
      ]
    },
    {
      "cell_type": "code",
      "execution_count": 43,
      "metadata": {
        "id": "KaRQTXyTsb7j",
        "colab": {
          "base_uri": "https://localhost:8080/"
        },
        "outputId": "a409b1e3-5faf-42b4-c8f6-fa72c957278d"
      },
      "outputs": [
        {
          "output_type": "stream",
          "name": "stdout",
          "text": [
            "+--------------------+---------------------------+------------------------------------+--------------------+--------------------+\n",
            "|        cleaned_text|finished_no_stop_lemmatized|finished_no_stop_lemmatized_metadata|         tf_features|     tf_idf_features|\n",
            "+--------------------+---------------------------+------------------------------------+--------------------+--------------------+\n",
            "|screenshots kyiv ...|       [screenshot, kyiv...|                [{sentence, 0}, {...|(59326,[6,296,348...|(59326,[6,296,348...|\n",
            "|irkutsk peace pro...|       [irkutsk, peace, ...|                [{sentence, 0}, {...|(59326,[174,345,3...|(59326,[174,345,3...|\n",
            "|conservative hold...|       [conservative, ho...|                [{sentence, 0}, {...|(59326,[36,145,48...|(59326,[36,145,48...|\n",
            "|           energodar|                [energodar]|                     [{sentence, 0}]|(59326,[2558],[1.0])|(59326,[2558],[7....|\n",
            "|advice russian pr...|         [advice, prisoner]|                [{sentence, 0}, {...|(59326,[529,1070]...|(59326,[529,1070]...|\n",
            "+--------------------+---------------------------+------------------------------------+--------------------+--------------------+\n",
            "only showing top 5 rows\n",
            "\n"
          ]
        }
      ],
      "source": [
        "processed_text_v2.show(5)"
      ]
    },
    {
      "cell_type": "code",
      "execution_count": 57,
      "metadata": {
        "id": "gWK-l4Klsb5K",
        "colab": {
          "base_uri": "https://localhost:8080/"
        },
        "outputId": "be9d5f54-0286-4e32-a199-98772c2bc127"
      },
      "outputs": [
        {
          "output_type": "stream",
          "name": "stdout",
          "text": [
            "+--------------------------------------------------------------------------------------------------------------------------------------------------+-------------------------------------------------------------------------------------------------------------------------------------------------------------+---------------------------------------------------------------------------------------------------------------------------------------------------------------------------------------------------------------------------------------------------------------------------------------------+------------------------------------------------------------------------------------------------------------------------------------------------+\n",
            "|cleaned_text                                                                                                                                      |finished_no_stop_lemmatized                                                                                                                                  |finished_no_stop_lemmatized_metadata                                                                                                                                                                                                                                                         |tf_features                                                                                                                                     |\n",
            "+--------------------------------------------------------------------------------------------------------------------------------------------------+-------------------------------------------------------------------------------------------------------------------------------------------------------------+---------------------------------------------------------------------------------------------------------------------------------------------------------------------------------------------------------------------------------------------------------------------------------------------+------------------------------------------------------------------------------------------------------------------------------------------------+\n",
            "|screenshots kyiv resident                                                                                                                         |[screenshot, kyiv, resident]                                                                                                                                 |[{sentence, 0}, {sentence, 0}, {sentence, 0}]                                                                                                                                                                                                                                                |(59331,[10,300,3487],[1.0,1.0,1.0])                                                                                                             |\n",
            "|irkutsk peace protester russia led police                                                                                                         |[irkutsk, peace, protester, russia, lead, police]                                                                                                            |[{sentence, 0}, {sentence, 0}, {sentence, 0}, {sentence, 0}, {sentence, 0}, {sentence, 0}]                                                                                                                                                                                                   |(59331,[3,178,349,370,1252,6115],[1.0,1.0,1.0,1.0,1.0,1.0])                                                                                     |\n",
            "|conservative holding purim water call                                                                                                             |[conservative, hold, purim, water, call]                                                                                                                     |[{sentence, 0}, {sentence, 0}, {sentence, 0}, {sentence, 0}, {sentence, 0}]                                                                                                                                                                                                                  |(59331,[40,149,492,3812,12867],[1.0,1.0,1.0,1.0,1.0])                                                                                           |\n",
            "|energodar                                                                                                                                         |[energodar]                                                                                                                                                  |[{sentence, 0}]                                                                                                                                                                                                                                                                              |(59331,[2563],[1.0])                                                                                                                            |\n",
            "|advice russian prisoners                                                                                                                          |[advice, russian, prisoner]                                                                                                                                  |[{sentence, 0}, {sentence, 0}, {sentence, 0}]                                                                                                                                                                                                                                                |(59331,[0,533,1074],[1.0,1.0,1.0])                                                                                                              |\n",
            "|ukraine russia war ukraine civilians dead fierce fighting cities updates                                                                          |[ukraine, russia, war, ukraine, civilian, dead, fierce, fight, city, update]                                                                                 |[{sentence, 0}, {sentence, 0}, {sentence, 0}, {sentence, 0}, {sentence, 0}, {sentence, 0}, {sentence, 0}, {sentence, 0}, {sentence, 0}, {sentence, 0}]                                                                                                                                       |(59331,[1,3,4,14,25,33,123,156,2218],[2.0,1.0,1.0,1.0,1.0,1.0,1.0,1.0,1.0])                                                                     |\n",
            "|energodar russian invaders weapons ukrainians                                                                                                     |[energodar, russian, invader, weapon, ukrainian]                                                                                                             |[{sentence, 0}, {sentence, 0}, {sentence, 0}, {sentence, 0}, {sentence, 0}]                                                                                                                                                                                                                  |(59331,[0,2,34,121,2563],[1.0,1.0,1.0,1.0,1.0])                                                                                                 |\n",
            "|russian tank fires directly residential building hits person                                                                                      |[russian, tank, fire, directly, residential, build, hit, person]                                                                                             |[{sentence, 0}, {sentence, 0}, {sentence, 0}, {sentence, 0}, {sentence, 0}, {sentence, 0}, {sentence, 0}, {sentence, 0}]                                                                                                                                                                     |(59331,[0,15,35,56,152,410,586,674],[1.0,1.0,1.0,1.0,1.0,1.0,1.0,1.0])                                                                          |\n",
            "|kharkiv region territorial defence people army captured driving tank                                                                              |[kharkiv, region, territorial, defence, people, army, capture, drive, tank]                                                                                  |[{sentence, 0}, {sentence, 0}, {sentence, 0}, {sentence, 0}, {sentence, 0}, {sentence, 0}, {sentence, 0}, {sentence, 0}, {sentence, 0}]                                                                                                                                                      |(59331,[7,15,17,27,51,52,291,404,580],[1.0,1.0,1.0,1.0,1.0,1.0,1.0,1.0,1.0])                                                                    |\n",
            "|irkutsk peace protester russia led police                                                                                                         |[irkutsk, peace, protester, russia, lead, police]                                                                                                            |[{sentence, 0}, {sentence, 0}, {sentence, 0}, {sentence, 0}, {sentence, 0}, {sentence, 0}]                                                                                                                                                                                                   |(59331,[3,178,349,370,1252,6115],[1.0,1.0,1.0,1.0,1.0,1.0])                                                                                     |\n",
            "|racist ukrainians letting indian students board trains                                                                                            |[racist, ukrainian, let, indian, student, board, train]                                                                                                      |[{sentence, 0}, {sentence, 0}, {sentence, 0}, {sentence, 0}, {sentence, 0}, {sentence, 0}, {sentence, 0}]                                                                                                                                                                                    |(59331,[2,263,489,857,1098,1308,2235],[1.0,1.0,1.0,1.0,1.0,1.0,1.0])                                                                            |\n",
            "|russia ukraine war live civilians killed hostilities world war nuclear russian minister                                                           |[russia, ukraine, war, live, civilian, kill, hostility, world, war, nuclear, russian, minister]                                                              |[{sentence, 0}, {sentence, 0}, {sentence, 0}, {sentence, 0}, {sentence, 0}, {sentence, 0}, {sentence, 0}, {sentence, 0}, {sentence, 0}, {sentence, 0}, {sentence, 0}, {sentence, 0}]                                                                                                         |(59331,[0,1,3,4,20,26,33,53,70,119,1641],[1.0,1.0,1.0,2.0,1.0,1.0,1.0,1.0,1.0,1.0,1.0])                                                         |\n",
            "|russia ukraine neo nazis watch ross kemp gangs personally met russian neo nazis russia                                                            |[russia, ukraine, neo, nazi, watch, ross, kemp, gang, personally, meet, russian, neo, nazi, russia]                                                          |[{sentence, 0}, {sentence, 0}, {sentence, 0}, {sentence, 0}, {sentence, 0}, {sentence, 0}, {sentence, 0}, {sentence, 0}, {sentence, 0}, {sentence, 0}, {sentence, 0}, {sentence, 0}, {sentence, 0}, {sentence, 0}]                                                                           |(59331,[0,1,3,72,168,210,1238,1420,3180,12772,15516],[1.0,1.0,2.0,1.0,1.0,2.0,2.0,1.0,1.0,1.0,1.0])                                             |\n",
            "|casualty update kyiv independent shares official reporting state emergency service civilians killed russian troops invasion ukraine began february|[casualty, update, kyiv, independent, share, official, report, state, emergency, service, civilian, kill, russian, troop, invasion, ukraine, begin, february]|[{sentence, 0}, {sentence, 0}, {sentence, 0}, {sentence, 0}, {sentence, 0}, {sentence, 0}, {sentence, 0}, {sentence, 0}, {sentence, 0}, {sentence, 0}, {sentence, 0}, {sentence, 0}, {sentence, 0}, {sentence, 0}, {sentence, 0}, {sentence, 0}, {sentence, 0}, {sentence, 0}]               |(59331,[0,1,10,24,26,29,33,36,39,85,133,136,156,197,547,592,641,780],[1.0,1.0,1.0,1.0,1.0,1.0,1.0,1.0,1.0,1.0,1.0,1.0,1.0,1.0,1.0,1.0,1.0,1.0]) |\n",
            "|appeal mothers fathers brothers sisters sons daughters fellow citizens russia                                                                     |[appeal, mother, father, brother, sister, son, daughter, fellow, citizen, russia]                                                                            |[{sentence, 0}, {sentence, 0}, {sentence, 0}, {sentence, 0}, {sentence, 0}, {sentence, 0}, {sentence, 0}, {sentence, 0}, {sentence, 0}, {sentence, 0}]                                                                                                                                       |(59331,[3,183,280,515,521,748,811,931,1132,1452],[1.0,1.0,1.0,1.0,1.0,1.0,1.0,1.0,1.0,1.0])                                                     |\n",
            "|masterplan ukraine make indian students hostage india side                                                                                        |[masterplan, ukraine, make, indian, student, hostage, india, side]                                                                                           |[{sentence, 0}, {sentence, 0}, {sentence, 0}, {sentence, 0}, {sentence, 0}, {sentence, 0}, {sentence, 0}, {sentence, 0}]                                                                                                                                                                     |(59331,[1,13,196,489,653,857,1814,12774],[1.0,1.0,1.0,1.0,1.0,1.0,1.0,1.0])                                                                     |\n",
            "|scale ukrainian heroism russian terrorism                                                                                                         |[scale, ukrainian, heroism, russian, terrorism]                                                                                                              |[{sentence, 0}, {sentence, 0}, {sentence, 0}, {sentence, 0}, {sentence, 0}]                                                                                                                                                                                                                  |(59331,[0,2,571,1530,3646],[1.0,1.0,1.0,1.0,1.0])                                                                                               |\n",
            "|masterplan ukraine make indian students hostage india side                                                                                        |[masterplan, ukraine, make, indian, student, hostage, india, side]                                                                                           |[{sentence, 0}, {sentence, 0}, {sentence, 0}, {sentence, 0}, {sentence, 0}, {sentence, 0}, {sentence, 0}, {sentence, 0}]                                                                                                                                                                     |(59331,[1,13,196,489,653,857,1814,12774],[1.0,1.0,1.0,1.0,1.0,1.0,1.0,1.0])                                                                     |\n",
            "|war ukraine fated end russian civil war fsb helps stop zelensky assassins                                                                         |[war, ukraine, fate, end, russian, civil, war, fsb, help, stop, zelensky, assassin]                                                                          |[{sentence, 0}, {sentence, 0}, {sentence, 0}, {sentence, 0}, {sentence, 0}, {sentence, 0}, {sentence, 0}, {sentence, 0}, {sentence, 0}, {sentence, 0}, {sentence, 0}, {sentence, 0}]                                                                                                         |(59331,[0,1,4,58,61,76,245,917,1186,1586,8519],[1.0,1.0,2.0,1.0,1.0,1.0,1.0,1.0,1.0,1.0,1.0])                                                   |\n",
            "|russian delegation city konotop negotiate surrender effectively city destroyed fighting lead russian soldier walking hand grenades held air pins  |[russian, delegation, city, konotop, negotiate, surrender, effectively, city, destroy, fight, lead, russian, soldier, walk, hand, grenade, hold, air, pin]   |[{sentence, 0}, {sentence, 0}, {sentence, 0}, {sentence, 0}, {sentence, 0}, {sentence, 0}, {sentence, 0}, {sentence, 0}, {sentence, 0}, {sentence, 0}, {sentence, 0}, {sentence, 0}, {sentence, 0}, {sentence, 0}, {sentence, 0}, {sentence, 0}, {sentence, 0}, {sentence, 0}, {sentence, 0}]|(59331,[0,8,12,14,25,54,149,212,349,372,837,840,1393,1910,1927,1934,4074],[2.0,1.0,1.0,1.0,2.0,1.0,1.0,1.0,1.0,1.0,1.0,1.0,1.0,1.0,1.0,1.0,1.0])|\n",
            "+--------------------------------------------------------------------------------------------------------------------------------------------------+-------------------------------------------------------------------------------------------------------------------------------------------------------------+---------------------------------------------------------------------------------------------------------------------------------------------------------------------------------------------------------------------------------------------------------------------------------------------+------------------------------------------------------------------------------------------------------------------------------------------------+\n",
            "only showing top 20 rows\n",
            "\n"
          ]
        }
      ],
      "source": [
        "tf_result.show(truncate=False)"
      ]
    },
    {
      "cell_type": "markdown",
      "source": [
        "<br>\n",
        "<br>\n",
        "<br>\n",
        "<br>\n",
        "<br>\n",
        "<br>\n",
        "\n",
        "#### **1.4 Testing UDF to Tag the Documents**\n",
        "---"
      ],
      "metadata": {
        "id": "hw_fXjYPoo4r"
      }
    },
    {
      "cell_type": "code",
      "source": [
        "test_tag = tf_result.select('finished_no_stop_lemmatized')"
      ],
      "metadata": {
        "id": "Vo5U0bLBhrai"
      },
      "execution_count": 95,
      "outputs": []
    },
    {
      "cell_type": "code",
      "source": [
        "test_tag.show(3, truncate=False)"
      ],
      "metadata": {
        "colab": {
          "base_uri": "https://localhost:8080/"
        },
        "id": "CZN6YyPahrqL",
        "outputId": "17caa74e-790f-4290-e208-d51198cd182e"
      },
      "execution_count": 97,
      "outputs": [
        {
          "output_type": "stream",
          "name": "stdout",
          "text": [
            "+-------------------------------------------------+\n",
            "|finished_no_stop_lemmatized                      |\n",
            "+-------------------------------------------------+\n",
            "|[screenshot, kyiv, resident]                     |\n",
            "|[irkutsk, peace, protester, russia, lead, police]|\n",
            "|[conservative, hold, purim, water, call]         |\n",
            "+-------------------------------------------------+\n",
            "only showing top 3 rows\n",
            "\n"
          ]
        }
      ]
    },
    {
      "cell_type": "code",
      "source": [
        "def find_tag(list_of_words, topic):\n",
        "  count = 0\n",
        "  for i in range(len(list_of_words)):\n",
        "    if list_of_words[i] in topic:\n",
        "      #print(list_of_words[i])\n",
        "      count += 1\n",
        "  return count/len(topic)"
      ],
      "metadata": {
        "id": "oprpzte4hrwV"
      },
      "execution_count": 77,
      "outputs": []
    },
    {
      "cell_type": "code",
      "source": [
        "a = ['a','d','c']\n",
        "t = ['a','d','e']"
      ],
      "metadata": {
        "id": "skjsh_Xyhrzf"
      },
      "execution_count": 74,
      "outputs": []
    },
    {
      "cell_type": "code",
      "source": [
        "find_tag(a,t)"
      ],
      "metadata": {
        "colab": {
          "base_uri": "https://localhost:8080/"
        },
        "id": "aOVNXsb5hr2u",
        "outputId": "c7eaf2bd-50a0-4a0f-86c8-094ff351c7c7"
      },
      "execution_count": 75,
      "outputs": [
        {
          "output_type": "stream",
          "name": "stdout",
          "text": [
            "a\n",
            "d\n"
          ]
        },
        {
          "output_type": "execute_result",
          "data": {
            "text/plain": [
              "0.6666666666666666"
            ]
          },
          "metadata": {},
          "execution_count": 75
        }
      ]
    },
    {
      "cell_type": "code",
      "source": [
        "test_topics = topics.toPandas()\n",
        "test_topics.drop(['termIndices','termWeights'], axis=1, inplace=True)\n",
        "test_topics.head()"
      ],
      "metadata": {
        "colab": {
          "base_uri": "https://localhost:8080/",
          "height": 206
        },
        "id": "bQgQR57rjLyK",
        "outputId": "258a2934-35e4-4caa-cf84-a2e83fe4ee88"
      },
      "execution_count": 82,
      "outputs": [
        {
          "output_type": "execute_result",
          "data": {
            "text/plain": [
              "   topic                                         topicWords\n",
              "0      0  [russian, ukrainian, ukraine, mariupol, azov, ...\n",
              "1      1  [war, russia, ukraine, putin, country, world, ...\n",
              "2      2  [ukraine, russia, russian, refugee, oil, germa...\n",
              "3      3  [moskva, russian, sink, column, ukrainian, ka,...\n",
              "4      4  [russian, ukrainian, ukraine, force, call, don..."
            ],
            "text/html": [
              "\n",
              "  <div id=\"df-2ce1cd2e-d689-486d-9c83-43fd857196c3\">\n",
              "    <div class=\"colab-df-container\">\n",
              "      <div>\n",
              "<style scoped>\n",
              "    .dataframe tbody tr th:only-of-type {\n",
              "        vertical-align: middle;\n",
              "    }\n",
              "\n",
              "    .dataframe tbody tr th {\n",
              "        vertical-align: top;\n",
              "    }\n",
              "\n",
              "    .dataframe thead th {\n",
              "        text-align: right;\n",
              "    }\n",
              "</style>\n",
              "<table border=\"1\" class=\"dataframe\">\n",
              "  <thead>\n",
              "    <tr style=\"text-align: right;\">\n",
              "      <th></th>\n",
              "      <th>topic</th>\n",
              "      <th>topicWords</th>\n",
              "    </tr>\n",
              "  </thead>\n",
              "  <tbody>\n",
              "    <tr>\n",
              "      <th>0</th>\n",
              "      <td>0</td>\n",
              "      <td>[russian, ukrainian, ukraine, mariupol, azov, ...</td>\n",
              "    </tr>\n",
              "    <tr>\n",
              "      <th>1</th>\n",
              "      <td>1</td>\n",
              "      <td>[war, russia, ukraine, putin, country, world, ...</td>\n",
              "    </tr>\n",
              "    <tr>\n",
              "      <th>2</th>\n",
              "      <td>2</td>\n",
              "      <td>[ukraine, russia, russian, refugee, oil, germa...</td>\n",
              "    </tr>\n",
              "    <tr>\n",
              "      <th>3</th>\n",
              "      <td>3</td>\n",
              "      <td>[moskva, russian, sink, column, ukrainian, ka,...</td>\n",
              "    </tr>\n",
              "    <tr>\n",
              "      <th>4</th>\n",
              "      <td>4</td>\n",
              "      <td>[russian, ukrainian, ukraine, force, call, don...</td>\n",
              "    </tr>\n",
              "  </tbody>\n",
              "</table>\n",
              "</div>\n",
              "      <button class=\"colab-df-convert\" onclick=\"convertToInteractive('df-2ce1cd2e-d689-486d-9c83-43fd857196c3')\"\n",
              "              title=\"Convert this dataframe to an interactive table.\"\n",
              "              style=\"display:none;\">\n",
              "        \n",
              "  <svg xmlns=\"http://www.w3.org/2000/svg\" height=\"24px\"viewBox=\"0 0 24 24\"\n",
              "       width=\"24px\">\n",
              "    <path d=\"M0 0h24v24H0V0z\" fill=\"none\"/>\n",
              "    <path d=\"M18.56 5.44l.94 2.06.94-2.06 2.06-.94-2.06-.94-.94-2.06-.94 2.06-2.06.94zm-11 1L8.5 8.5l.94-2.06 2.06-.94-2.06-.94L8.5 2.5l-.94 2.06-2.06.94zm10 10l.94 2.06.94-2.06 2.06-.94-2.06-.94-.94-2.06-.94 2.06-2.06.94z\"/><path d=\"M17.41 7.96l-1.37-1.37c-.4-.4-.92-.59-1.43-.59-.52 0-1.04.2-1.43.59L10.3 9.45l-7.72 7.72c-.78.78-.78 2.05 0 2.83L4 21.41c.39.39.9.59 1.41.59.51 0 1.02-.2 1.41-.59l7.78-7.78 2.81-2.81c.8-.78.8-2.07 0-2.86zM5.41 20L4 18.59l7.72-7.72 1.47 1.35L5.41 20z\"/>\n",
              "  </svg>\n",
              "      </button>\n",
              "      \n",
              "  <style>\n",
              "    .colab-df-container {\n",
              "      display:flex;\n",
              "      flex-wrap:wrap;\n",
              "      gap: 12px;\n",
              "    }\n",
              "\n",
              "    .colab-df-convert {\n",
              "      background-color: #E8F0FE;\n",
              "      border: none;\n",
              "      border-radius: 50%;\n",
              "      cursor: pointer;\n",
              "      display: none;\n",
              "      fill: #1967D2;\n",
              "      height: 32px;\n",
              "      padding: 0 0 0 0;\n",
              "      width: 32px;\n",
              "    }\n",
              "\n",
              "    .colab-df-convert:hover {\n",
              "      background-color: #E2EBFA;\n",
              "      box-shadow: 0px 1px 2px rgba(60, 64, 67, 0.3), 0px 1px 3px 1px rgba(60, 64, 67, 0.15);\n",
              "      fill: #174EA6;\n",
              "    }\n",
              "\n",
              "    [theme=dark] .colab-df-convert {\n",
              "      background-color: #3B4455;\n",
              "      fill: #D2E3FC;\n",
              "    }\n",
              "\n",
              "    [theme=dark] .colab-df-convert:hover {\n",
              "      background-color: #434B5C;\n",
              "      box-shadow: 0px 1px 3px 1px rgba(0, 0, 0, 0.15);\n",
              "      filter: drop-shadow(0px 1px 2px rgba(0, 0, 0, 0.3));\n",
              "      fill: #FFFFFF;\n",
              "    }\n",
              "  </style>\n",
              "\n",
              "      <script>\n",
              "        const buttonEl =\n",
              "          document.querySelector('#df-2ce1cd2e-d689-486d-9c83-43fd857196c3 button.colab-df-convert');\n",
              "        buttonEl.style.display =\n",
              "          google.colab.kernel.accessAllowed ? 'block' : 'none';\n",
              "\n",
              "        async function convertToInteractive(key) {\n",
              "          const element = document.querySelector('#df-2ce1cd2e-d689-486d-9c83-43fd857196c3');\n",
              "          const dataTable =\n",
              "            await google.colab.kernel.invokeFunction('convertToInteractive',\n",
              "                                                     [key], {});\n",
              "          if (!dataTable) return;\n",
              "\n",
              "          const docLinkHtml = 'Like what you see? Visit the ' +\n",
              "            '<a target=\"_blank\" href=https://colab.research.google.com/notebooks/data_table.ipynb>data table notebook</a>'\n",
              "            + ' to learn more about interactive tables.';\n",
              "          element.innerHTML = '';\n",
              "          dataTable['output_type'] = 'display_data';\n",
              "          await google.colab.output.renderOutput(dataTable, element);\n",
              "          const docLink = document.createElement('div');\n",
              "          docLink.innerHTML = docLinkHtml;\n",
              "          element.appendChild(docLink);\n",
              "        }\n",
              "      </script>\n",
              "    </div>\n",
              "  </div>\n",
              "  "
            ]
          },
          "metadata": {},
          "execution_count": 82
        }
      ]
    },
    {
      "cell_type": "code",
      "source": [
        "test_topics['topicWords'].iloc[0,]"
      ],
      "metadata": {
        "colab": {
          "base_uri": "https://localhost:8080/"
        },
        "id": "nBmwzLDShsAg",
        "outputId": "207190e9-91e4-457f-e17c-819891953731"
      },
      "execution_count": 83,
      "outputs": [
        {
          "output_type": "execute_result",
          "data": {
            "text/plain": [
              "['russian',\n",
              " 'ukrainian',\n",
              " 'ukraine',\n",
              " 'mariupol',\n",
              " 'azov',\n",
              " 'azovstal',\n",
              " 'commander',\n",
              " 'war',\n",
              " 'video',\n",
              " 'military']"
            ]
          },
          "metadata": {},
          "execution_count": 83
        }
      ]
    },
    {
      "cell_type": "code",
      "source": [
        "test_topics1 = test_topics['topicWords'].iloc[0,]"
      ],
      "metadata": {
        "id": "Jy_nLd9pj0bS"
      },
      "execution_count": 84,
      "outputs": []
    },
    {
      "cell_type": "code",
      "execution_count": 111,
      "metadata": {
        "id": "HSzqtnVdsbuR"
      },
      "outputs": [],
      "source": [
        "test_tag = test_tag.withColumn('topic2', find_tag_udf(F.col('finished_no_stop_lemmatized')))"
      ]
    },
    {
      "cell_type": "code",
      "source": [
        "test_tag.show(5, truncate=False)"
      ],
      "metadata": {
        "colab": {
          "base_uri": "https://localhost:8080/"
        },
        "id": "Z2y2pWVHkyjJ",
        "outputId": "4ba0620a-4acc-49da-8e34-2829783bbce9"
      },
      "execution_count": 112,
      "outputs": [
        {
          "output_type": "stream",
          "name": "stdout",
          "text": [
            "+-------------------------------------------------+------+\n",
            "|finished_no_stop_lemmatized                      |topic2|\n",
            "+-------------------------------------------------+------+\n",
            "|[screenshot, kyiv, resident]                     |0.0   |\n",
            "|[irkutsk, peace, protester, russia, lead, police]|0.0   |\n",
            "|[conservative, hold, purim, water, call]         |0.0   |\n",
            "|[energodar]                                      |0.0   |\n",
            "|[advice, russian, prisoner]                      |0.1   |\n",
            "+-------------------------------------------------+------+\n",
            "only showing top 5 rows\n",
            "\n"
          ]
        }
      ]
    },
    {
      "cell_type": "code",
      "execution_count": 110,
      "metadata": {
        "id": "zdDgUZEZufFM"
      },
      "outputs": [],
      "source": [
        "find_tag_udf = F.udf(lambda z: find_tag(z,test_topics1))"
      ]
    },
    {
      "cell_type": "markdown",
      "source": [
        "<br>\n",
        "<br>\n",
        "<br>\n",
        "<br>\n",
        "<br>\n",
        "<br>\n",
        "\n",
        "#### **1.5 Document Tagging**\n",
        "---"
      ],
      "metadata": {
        "id": "bUqOfc--o9Lg"
      }
    },
    {
      "cell_type": "code",
      "source": [
        "topics_df = topics_v2.toPandas()\n",
        "topics_df.drop(['termIndices','termWeights'], axis=1, inplace=True)"
      ],
      "metadata": {
        "id": "-rHzCm7GpgFt"
      },
      "execution_count": 128,
      "outputs": []
    },
    {
      "cell_type": "code",
      "source": [
        "topics_df"
      ],
      "metadata": {
        "colab": {
          "base_uri": "https://localhost:8080/",
          "height": 520
        },
        "id": "f8pFWNeErMcu",
        "outputId": "e5211809-be9b-41b4-eb77-b51b699e01bb"
      },
      "execution_count": 129,
      "outputs": [
        {
          "output_type": "execute_result",
          "data": {
            "text/plain": [
              "    topic                                         topicWords\n",
              "0       0  [place, push, discuss, airport, bit, record, t...\n",
              "1       1  [kill, ukrainian, soldier, shoot, defense, nat...\n",
              "2       2  [russia, ukraine, russian, war, destroy, army,...\n",
              "3       3  [speak, prosecutor, word, yacht, regular, hono...\n",
              "4       4  [russian, ukraine, fight, show, putin, region,...\n",
              "5       5  [equipment, war, fall, include, appear, form, ...\n",
              "6       6  [czech, throw, important, attention, chernobyl...\n",
              "7       7  [council, canadian, protect, occupy, potential...\n",
              "8       8  [zone, american, ukrainian, sea, letter, drone...\n",
              "9       9  [video, long, missile, ukraine, weapon, citize...\n",
              "10     10  [run, truth, grain, crazy, land, depot, proces...\n",
              "11     11  [shelter, demand, child, work, fly, border, ch...\n",
              "12     12  [st, journalist, boy, spot, criminal, thoughts...\n",
              "13     13  [cut, talk, video, soldier, search, bucha, att...\n",
              "14     14  [support, mariupol, force, ukrainian, friend, ..."
            ],
            "text/html": [
              "\n",
              "  <div id=\"df-632a79e9-cb96-4abd-b5d4-95025a1fce22\">\n",
              "    <div class=\"colab-df-container\">\n",
              "      <div>\n",
              "<style scoped>\n",
              "    .dataframe tbody tr th:only-of-type {\n",
              "        vertical-align: middle;\n",
              "    }\n",
              "\n",
              "    .dataframe tbody tr th {\n",
              "        vertical-align: top;\n",
              "    }\n",
              "\n",
              "    .dataframe thead th {\n",
              "        text-align: right;\n",
              "    }\n",
              "</style>\n",
              "<table border=\"1\" class=\"dataframe\">\n",
              "  <thead>\n",
              "    <tr style=\"text-align: right;\">\n",
              "      <th></th>\n",
              "      <th>topic</th>\n",
              "      <th>topicWords</th>\n",
              "    </tr>\n",
              "  </thead>\n",
              "  <tbody>\n",
              "    <tr>\n",
              "      <th>0</th>\n",
              "      <td>0</td>\n",
              "      <td>[place, push, discuss, airport, bit, record, t...</td>\n",
              "    </tr>\n",
              "    <tr>\n",
              "      <th>1</th>\n",
              "      <td>1</td>\n",
              "      <td>[kill, ukrainian, soldier, shoot, defense, nat...</td>\n",
              "    </tr>\n",
              "    <tr>\n",
              "      <th>2</th>\n",
              "      <td>2</td>\n",
              "      <td>[russia, ukraine, russian, war, destroy, army,...</td>\n",
              "    </tr>\n",
              "    <tr>\n",
              "      <th>3</th>\n",
              "      <td>3</td>\n",
              "      <td>[speak, prosecutor, word, yacht, regular, hono...</td>\n",
              "    </tr>\n",
              "    <tr>\n",
              "      <th>4</th>\n",
              "      <td>4</td>\n",
              "      <td>[russian, ukraine, fight, show, putin, region,...</td>\n",
              "    </tr>\n",
              "    <tr>\n",
              "      <th>5</th>\n",
              "      <td>5</td>\n",
              "      <td>[equipment, war, fall, include, appear, form, ...</td>\n",
              "    </tr>\n",
              "    <tr>\n",
              "      <th>6</th>\n",
              "      <td>6</td>\n",
              "      <td>[czech, throw, important, attention, chernobyl...</td>\n",
              "    </tr>\n",
              "    <tr>\n",
              "      <th>7</th>\n",
              "      <td>7</td>\n",
              "      <td>[council, canadian, protect, occupy, potential...</td>\n",
              "    </tr>\n",
              "    <tr>\n",
              "      <th>8</th>\n",
              "      <td>8</td>\n",
              "      <td>[zone, american, ukrainian, sea, letter, drone...</td>\n",
              "    </tr>\n",
              "    <tr>\n",
              "      <th>9</th>\n",
              "      <td>9</td>\n",
              "      <td>[video, long, missile, ukraine, weapon, citize...</td>\n",
              "    </tr>\n",
              "    <tr>\n",
              "      <th>10</th>\n",
              "      <td>10</td>\n",
              "      <td>[run, truth, grain, crazy, land, depot, proces...</td>\n",
              "    </tr>\n",
              "    <tr>\n",
              "      <th>11</th>\n",
              "      <td>11</td>\n",
              "      <td>[shelter, demand, child, work, fly, border, ch...</td>\n",
              "    </tr>\n",
              "    <tr>\n",
              "      <th>12</th>\n",
              "      <td>12</td>\n",
              "      <td>[st, journalist, boy, spot, criminal, thoughts...</td>\n",
              "    </tr>\n",
              "    <tr>\n",
              "      <th>13</th>\n",
              "      <td>13</td>\n",
              "      <td>[cut, talk, video, soldier, search, bucha, att...</td>\n",
              "    </tr>\n",
              "    <tr>\n",
              "      <th>14</th>\n",
              "      <td>14</td>\n",
              "      <td>[support, mariupol, force, ukrainian, friend, ...</td>\n",
              "    </tr>\n",
              "  </tbody>\n",
              "</table>\n",
              "</div>\n",
              "      <button class=\"colab-df-convert\" onclick=\"convertToInteractive('df-632a79e9-cb96-4abd-b5d4-95025a1fce22')\"\n",
              "              title=\"Convert this dataframe to an interactive table.\"\n",
              "              style=\"display:none;\">\n",
              "        \n",
              "  <svg xmlns=\"http://www.w3.org/2000/svg\" height=\"24px\"viewBox=\"0 0 24 24\"\n",
              "       width=\"24px\">\n",
              "    <path d=\"M0 0h24v24H0V0z\" fill=\"none\"/>\n",
              "    <path d=\"M18.56 5.44l.94 2.06.94-2.06 2.06-.94-2.06-.94-.94-2.06-.94 2.06-2.06.94zm-11 1L8.5 8.5l.94-2.06 2.06-.94-2.06-.94L8.5 2.5l-.94 2.06-2.06.94zm10 10l.94 2.06.94-2.06 2.06-.94-2.06-.94-.94-2.06-.94 2.06-2.06.94z\"/><path d=\"M17.41 7.96l-1.37-1.37c-.4-.4-.92-.59-1.43-.59-.52 0-1.04.2-1.43.59L10.3 9.45l-7.72 7.72c-.78.78-.78 2.05 0 2.83L4 21.41c.39.39.9.59 1.41.59.51 0 1.02-.2 1.41-.59l7.78-7.78 2.81-2.81c.8-.78.8-2.07 0-2.86zM5.41 20L4 18.59l7.72-7.72 1.47 1.35L5.41 20z\"/>\n",
              "  </svg>\n",
              "      </button>\n",
              "      \n",
              "  <style>\n",
              "    .colab-df-container {\n",
              "      display:flex;\n",
              "      flex-wrap:wrap;\n",
              "      gap: 12px;\n",
              "    }\n",
              "\n",
              "    .colab-df-convert {\n",
              "      background-color: #E8F0FE;\n",
              "      border: none;\n",
              "      border-radius: 50%;\n",
              "      cursor: pointer;\n",
              "      display: none;\n",
              "      fill: #1967D2;\n",
              "      height: 32px;\n",
              "      padding: 0 0 0 0;\n",
              "      width: 32px;\n",
              "    }\n",
              "\n",
              "    .colab-df-convert:hover {\n",
              "      background-color: #E2EBFA;\n",
              "      box-shadow: 0px 1px 2px rgba(60, 64, 67, 0.3), 0px 1px 3px 1px rgba(60, 64, 67, 0.15);\n",
              "      fill: #174EA6;\n",
              "    }\n",
              "\n",
              "    [theme=dark] .colab-df-convert {\n",
              "      background-color: #3B4455;\n",
              "      fill: #D2E3FC;\n",
              "    }\n",
              "\n",
              "    [theme=dark] .colab-df-convert:hover {\n",
              "      background-color: #434B5C;\n",
              "      box-shadow: 0px 1px 3px 1px rgba(0, 0, 0, 0.15);\n",
              "      filter: drop-shadow(0px 1px 2px rgba(0, 0, 0, 0.3));\n",
              "      fill: #FFFFFF;\n",
              "    }\n",
              "  </style>\n",
              "\n",
              "      <script>\n",
              "        const buttonEl =\n",
              "          document.querySelector('#df-632a79e9-cb96-4abd-b5d4-95025a1fce22 button.colab-df-convert');\n",
              "        buttonEl.style.display =\n",
              "          google.colab.kernel.accessAllowed ? 'block' : 'none';\n",
              "\n",
              "        async function convertToInteractive(key) {\n",
              "          const element = document.querySelector('#df-632a79e9-cb96-4abd-b5d4-95025a1fce22');\n",
              "          const dataTable =\n",
              "            await google.colab.kernel.invokeFunction('convertToInteractive',\n",
              "                                                     [key], {});\n",
              "          if (!dataTable) return;\n",
              "\n",
              "          const docLinkHtml = 'Like what you see? Visit the ' +\n",
              "            '<a target=\"_blank\" href=https://colab.research.google.com/notebooks/data_table.ipynb>data table notebook</a>'\n",
              "            + ' to learn more about interactive tables.';\n",
              "          element.innerHTML = '';\n",
              "          dataTable['output_type'] = 'display_data';\n",
              "          await google.colab.output.renderOutput(dataTable, element);\n",
              "          const docLink = document.createElement('div');\n",
              "          docLink.innerHTML = docLinkHtml;\n",
              "          element.appendChild(docLink);\n",
              "        }\n",
              "      </script>\n",
              "    </div>\n",
              "  </div>\n",
              "  "
            ]
          },
          "metadata": {},
          "execution_count": 129
        }
      ]
    },
    {
      "cell_type": "code",
      "source": [
        "topics_list = topics_df.topicWords.tolist()"
      ],
      "metadata": {
        "id": "0D0lU_P8p7GI"
      },
      "execution_count": 130,
      "outputs": []
    },
    {
      "cell_type": "code",
      "source": [
        "topics_list[0]"
      ],
      "metadata": {
        "colab": {
          "base_uri": "https://localhost:8080/"
        },
        "id": "ZLe44iTDp68w",
        "outputId": "2e84d390-2729-4a8b-eebb-d11d76bd0c71"
      },
      "execution_count": 131,
      "outputs": [
        {
          "output_type": "execute_result",
          "data": {
            "text/plain": [
              "['place',\n",
              " 'push',\n",
              " 'discuss',\n",
              " 'airport',\n",
              " 'bit',\n",
              " 'record',\n",
              " 'term',\n",
              " 'assistance',\n",
              " 'rally',\n",
              " 'war']"
            ]
          },
          "metadata": {},
          "execution_count": 131
        }
      ]
    },
    {
      "cell_type": "code",
      "source": [
        "udf_list = []\n",
        "for i in range(len(topics_list)):\n",
        "  udf_list.append(F.udf(lambda z: find_tag(z,topics_list[i])))"
      ],
      "metadata": {
        "id": "946ArG9tp6to"
      },
      "execution_count": 134,
      "outputs": []
    },
    {
      "cell_type": "code",
      "source": [
        "udf_list"
      ],
      "metadata": {
        "colab": {
          "base_uri": "https://localhost:8080/"
        },
        "id": "eFyDw75XqnUQ",
        "outputId": "e27c0456-3a00-4b21-c924-69c8d9c9e228"
      },
      "execution_count": 135,
      "outputs": [
        {
          "output_type": "execute_result",
          "data": {
            "text/plain": [
              "[<function __main__.<lambda>(z)>,\n",
              " <function __main__.<lambda>(z)>,\n",
              " <function __main__.<lambda>(z)>,\n",
              " <function __main__.<lambda>(z)>,\n",
              " <function __main__.<lambda>(z)>,\n",
              " <function __main__.<lambda>(z)>,\n",
              " <function __main__.<lambda>(z)>,\n",
              " <function __main__.<lambda>(z)>,\n",
              " <function __main__.<lambda>(z)>,\n",
              " <function __main__.<lambda>(z)>,\n",
              " <function __main__.<lambda>(z)>,\n",
              " <function __main__.<lambda>(z)>,\n",
              " <function __main__.<lambda>(z)>,\n",
              " <function __main__.<lambda>(z)>,\n",
              " <function __main__.<lambda>(z)>]"
            ]
          },
          "metadata": {},
          "execution_count": 135
        }
      ]
    },
    {
      "cell_type": "code",
      "execution_count": 133,
      "metadata": {
        "id": "_5JNvNAZufCV"
      },
      "outputs": [],
      "source": [
        "doc_tagged = tf_result.select('finished_no_stop_lemmatized')"
      ]
    },
    {
      "cell_type": "code",
      "source": [
        "doc_tagged = doc_tagged \\\n",
        "  .withColumn('topic1_weight', udf_list[0](F.col('finished_no_stop_lemmatized'))) \\\n",
        "  .withColumn('topic2_weight', udf_list[1](F.col('finished_no_stop_lemmatized'))) \\\n",
        "  .withColumn('topic3_weight', udf_list[2](F.col('finished_no_stop_lemmatized'))) \\\n",
        "  .withColumn('topic4_weight', udf_list[3](F.col('finished_no_stop_lemmatized'))) \\\n",
        "  .withColumn('topic5_weight', udf_list[4](F.col('finished_no_stop_lemmatized'))) \\\n",
        "  .withColumn('topic6_weight', udf_list[5](F.col('finished_no_stop_lemmatized'))) \\\n",
        "  .withColumn('topic7_weight', udf_list[6](F.col('finished_no_stop_lemmatized'))) \\\n",
        "  .withColumn('topic8_weight', udf_list[7](F.col('finished_no_stop_lemmatized'))) \\\n",
        "  .withColumn('topic9_weight', udf_list[8](F.col('finished_no_stop_lemmatized'))) \\\n",
        "  .withColumn('topic10_weight', udf_list[9](F.col('finished_no_stop_lemmatized'))) \\\n",
        "  .withColumn('topic11_weight', udf_list[10](F.col('finished_no_stop_lemmatized'))) \\\n",
        "  .withColumn('topic12_weight', udf_list[11](F.col('finished_no_stop_lemmatized'))) \\\n",
        "  .withColumn('topic13_weight', udf_list[12](F.col('finished_no_stop_lemmatized'))) \\\n",
        "  .withColumn('topic14_weight', udf_list[13](F.col('finished_no_stop_lemmatized'))) \\\n",
        "  .withColumn('topic15_weight', udf_list[14](F.col('finished_no_stop_lemmatized'))) \\"
      ],
      "metadata": {
        "id": "6ferXVT7o5zR"
      },
      "execution_count": 136,
      "outputs": []
    },
    {
      "cell_type": "code",
      "source": [
        "doc_tagged.show(30)"
      ],
      "metadata": {
        "colab": {
          "base_uri": "https://localhost:8080/"
        },
        "id": "P-EQF6Cfo53U",
        "outputId": "4006348b-9d75-49e2-e35f-c1f6a9ead145"
      },
      "execution_count": 138,
      "outputs": [
        {
          "output_type": "stream",
          "name": "stdout",
          "text": [
            "+---------------------------+-------------+-------------+-------------+-------------+-------------+-------------+-------------+-------------+-------------+--------------+--------------+--------------+--------------+--------------+--------------+\n",
            "|finished_no_stop_lemmatized|topic1_weight|topic2_weight|topic3_weight|topic4_weight|topic5_weight|topic6_weight|topic7_weight|topic8_weight|topic9_weight|topic10_weight|topic11_weight|topic12_weight|topic13_weight|topic14_weight|topic15_weight|\n",
            "+---------------------------+-------------+-------------+-------------+-------------+-------------+-------------+-------------+-------------+-------------+--------------+--------------+--------------+--------------+--------------+--------------+\n",
            "|       [screenshot, kyiv...|          0.0|          0.0|          0.0|          0.0|          0.0|          0.0|          0.0|          0.0|          0.0|           0.0|           0.0|           0.0|           0.0|           0.0|           0.0|\n",
            "|       [irkutsk, peace, ...|          0.0|          0.0|          0.0|          0.0|          0.0|          0.0|          0.0|          0.0|          0.0|           0.0|           0.0|           0.0|           0.0|           0.0|           0.0|\n",
            "|       [conservative, ho...|          0.0|          0.0|          0.0|          0.0|          0.0|          0.0|          0.0|          0.0|          0.0|           0.0|           0.0|           0.0|           0.0|           0.0|           0.0|\n",
            "|                [energodar]|          0.0|          0.0|          0.0|          0.0|          0.0|          0.0|          0.0|          0.0|          0.0|           0.0|           0.0|           0.0|           0.0|           0.0|           0.0|\n",
            "|       [advice, russian,...|          0.0|          0.0|          0.0|          0.0|          0.0|          0.0|          0.0|          0.0|          0.0|           0.0|           0.0|           0.0|           0.0|           0.0|           0.0|\n",
            "|       [ukraine, russia,...|          0.0|          0.0|          0.0|          0.0|          0.0|          0.0|          0.0|          0.0|          0.0|           0.0|           0.0|           0.0|           0.0|           0.0|           0.0|\n",
            "|       [energodar, russi...|          0.1|          0.1|          0.1|          0.1|          0.1|          0.1|          0.1|          0.1|          0.1|           0.1|           0.1|           0.1|           0.1|           0.1|           0.1|\n",
            "|       [russian, tank, f...|          0.1|          0.1|          0.1|          0.1|          0.1|          0.1|          0.1|          0.1|          0.1|           0.1|           0.1|           0.1|           0.1|           0.1|           0.1|\n",
            "|       [kharkiv, region,...|          0.0|          0.0|          0.0|          0.0|          0.0|          0.0|          0.0|          0.0|          0.0|           0.0|           0.0|           0.0|           0.0|           0.0|           0.0|\n",
            "|       [irkutsk, peace, ...|          0.0|          0.0|          0.0|          0.0|          0.0|          0.0|          0.0|          0.0|          0.0|           0.0|           0.0|           0.0|           0.0|           0.0|           0.0|\n",
            "|       [racist, ukrainia...|          0.1|          0.1|          0.1|          0.1|          0.1|          0.1|          0.1|          0.1|          0.1|           0.1|           0.1|           0.1|           0.1|           0.1|           0.1|\n",
            "|       [russia, ukraine,...|          0.0|          0.0|          0.0|          0.0|          0.0|          0.0|          0.0|          0.0|          0.0|           0.0|           0.0|           0.0|           0.0|           0.0|           0.0|\n",
            "|       [russia, ukraine,...|          0.0|          0.0|          0.0|          0.0|          0.0|          0.0|          0.0|          0.0|          0.0|           0.0|           0.0|           0.0|           0.0|           0.0|           0.0|\n",
            "|       [casualty, update...|          0.0|          0.0|          0.0|          0.0|          0.0|          0.0|          0.0|          0.0|          0.0|           0.0|           0.0|           0.0|           0.0|           0.0|           0.0|\n",
            "|       [appeal, mother, ...|          0.0|          0.0|          0.0|          0.0|          0.0|          0.0|          0.0|          0.0|          0.0|           0.0|           0.0|           0.0|           0.0|           0.0|           0.0|\n",
            "|       [masterplan, ukra...|          0.0|          0.0|          0.0|          0.0|          0.0|          0.0|          0.0|          0.0|          0.0|           0.0|           0.0|           0.0|           0.0|           0.0|           0.0|\n",
            "|       [scale, ukrainian...|          0.1|          0.1|          0.1|          0.1|          0.1|          0.1|          0.1|          0.1|          0.1|           0.1|           0.1|           0.1|           0.1|           0.1|           0.1|\n",
            "|       [masterplan, ukra...|          0.0|          0.0|          0.0|          0.0|          0.0|          0.0|          0.0|          0.0|          0.0|           0.0|           0.0|           0.0|           0.0|           0.0|           0.0|\n",
            "|       [war, ukraine, fa...|          0.0|          0.0|          0.0|          0.0|          0.0|          0.0|          0.0|          0.0|          0.0|           0.0|           0.0|           0.0|           0.0|           0.0|           0.0|\n",
            "|       [russian, delegat...|          0.0|          0.0|          0.0|          0.0|          0.0|          0.0|          0.0|          0.0|          0.0|           0.0|           0.0|           0.0|           0.0|           0.0|           0.0|\n",
            "|       [lot, russian, mi...|          0.0|          0.0|          0.0|          0.0|          0.0|          0.0|          0.0|          0.0|          0.0|           0.0|           0.0|           0.0|           0.0|           0.0|           0.0|\n",
            "|       [pkk, terrorist, ...|          0.0|          0.0|          0.0|          0.0|          0.0|          0.0|          0.0|          0.0|          0.0|           0.0|           0.0|           0.0|           0.0|           0.0|           0.0|\n",
            "|       [round, peace, ta...|          0.0|          0.0|          0.0|          0.0|          0.0|          0.0|          0.0|          0.0|          0.0|           0.0|           0.0|           0.0|           0.0|           0.0|           0.0|\n",
            "|       [absolutely, terr...|          0.0|          0.0|          0.0|          0.0|          0.0|          0.0|          0.0|          0.0|          0.0|           0.0|           0.0|           0.0|           0.0|           0.0|           0.0|\n",
            "|       [draw, pixel, art...|          0.0|          0.0|          0.0|          0.0|          0.0|          0.0|          0.0|          0.0|          0.0|           0.0|           0.0|           0.0|           0.0|           0.0|           0.0|\n",
            "|       [interest, title,...|          0.0|          0.0|          0.0|          0.0|          0.0|          0.0|          0.0|          0.0|          0.0|           0.0|           0.0|           0.0|           0.0|           0.0|           0.0|\n",
            "|       [asylum, russian,...|          0.0|          0.0|          0.0|          0.0|          0.0|          0.0|          0.0|          0.0|          0.0|           0.0|           0.0|           0.0|           0.0|           0.0|           0.0|\n",
            "|       [nuclear, materia...|          0.0|          0.0|          0.0|          0.0|          0.0|          0.0|          0.0|          0.0|          0.0|           0.0|           0.0|           0.0|           0.0|           0.0|           0.0|\n",
            "|       [wall, afghanista...|          0.0|          0.0|          0.0|          0.0|          0.0|          0.0|          0.0|          0.0|          0.0|           0.0|           0.0|           0.0|           0.0|           0.0|           0.0|\n",
            "|       [warn, graphic, s...|          0.0|          0.0|          0.0|          0.0|          0.0|          0.0|          0.0|          0.0|          0.0|           0.0|           0.0|           0.0|           0.0|           0.0|           0.0|\n",
            "+---------------------------+-------------+-------------+-------------+-------------+-------------+-------------+-------------+-------------+-------------+--------------+--------------+--------------+--------------+--------------+--------------+\n",
            "only showing top 30 rows\n",
            "\n"
          ]
        }
      ]
    },
    {
      "cell_type": "markdown",
      "source": [
        "<br>\n",
        "<br>\n",
        "<br>\n",
        "<br>\n",
        "<br>\n",
        "<br>\n",
        "\n",
        "#### **1.6 Document Tagging ver 2**\n",
        "---"
      ],
      "metadata": {
        "id": "5y4Ml1IKyUKD"
      }
    },
    {
      "cell_type": "code",
      "source": [
        "documents = spark.createDataFrame([\n",
        "    [123myNumericId, Vectors.sparse(len(words_in_our_corpus), {index_of_word:count}],\n",
        "    [2, Vectors.sparse(len(words_in_our_corpus), {index_of_word:count, another:1.0}],\n",
        "], schema=[\"id\", \"features\"]\n",
        "transformed = ldaModel.transform(documents)\n",
        "dist = transformed.take(1)"
      ],
      "metadata": {
        "id": "DHrkqHAsx8Ip"
      },
      "execution_count": null,
      "outputs": []
    },
    {
      "cell_type": "code",
      "source": [],
      "metadata": {
        "id": "qhA-gq1Vx8FT"
      },
      "execution_count": null,
      "outputs": []
    },
    {
      "cell_type": "code",
      "source": [],
      "metadata": {
        "id": "WhHzG_khx8CI"
      },
      "execution_count": null,
      "outputs": []
    },
    {
      "cell_type": "code",
      "source": [],
      "metadata": {
        "id": "BqUuZPeax7-w"
      },
      "execution_count": null,
      "outputs": []
    },
    {
      "cell_type": "code",
      "source": [],
      "metadata": {
        "id": "m7eElO8jx77n"
      },
      "execution_count": null,
      "outputs": []
    },
    {
      "cell_type": "code",
      "source": [],
      "metadata": {
        "id": "LUTzgTSMx74g"
      },
      "execution_count": null,
      "outputs": []
    },
    {
      "cell_type": "code",
      "source": [],
      "metadata": {
        "id": "KsQEaMotx7yx"
      },
      "execution_count": null,
      "outputs": []
    },
    {
      "cell_type": "code",
      "source": [],
      "metadata": {
        "id": "l2unXlryx7o3"
      },
      "execution_count": null,
      "outputs": []
    },
    {
      "cell_type": "markdown",
      "metadata": {
        "id": "kDAHIRi7b7k-"
      },
      "source": [
        "<br>\n",
        "<br>\n",
        "<br>\n",
        "<br>\n",
        "<br>\n",
        "<br>\n",
        "\n",
        "## **2. Topic Modeling on Comments data**\n",
        "---"
      ]
    },
    {
      "cell_type": "code",
      "execution_count": null,
      "metadata": {
        "id": "wcS7at63JKJc"
      },
      "outputs": [],
      "source": [
        "comments_en = spark.read.parquet(\"/content/drive/Shareddrives/502_project/data/comments_en_cleaned\")"
      ]
    },
    {
      "cell_type": "code",
      "execution_count": null,
      "metadata": {
        "colab": {
          "base_uri": "https://localhost:8080/"
        },
        "id": "QC57Wk24cP_h",
        "outputId": "f13d50ea-ce40-4366-8b06-e2514783acc5"
      },
      "outputs": [
        {
          "name": "stdout",
          "output_type": "stream",
          "text": [
            "+-----------+--------------+----------------------+-----------------+--------------------+--------+----------------+-------------------+-------------+------------+------+-------+------------+---------+----------+--------------------+------------+-----+--------+-------------+------------+------------+-------------+-------------+----------+--------------------+--------------------+\n",
            "|     author|author_cakeday|author_flair_css_class|author_flair_text|                text|can_gild|controversiality|        created_utc|distinguished|      edited|gilded|     id|is_submitter|  link_id| parent_id|           permalink|retrieved_on|score|stickied|    subreddit|subreddit_id|created_date|      Russian|    Ukrainian|   English|  normalizedDocument|        cleaned_text|\n",
            "+-----------+--------------+----------------------+-----------------+--------------------+--------+----------------+-------------------+-------------+------------+------+-------+------------+---------+----------+--------------------+------------+-----+--------+-------------+------------+------------+-------------+-------------+----------+--------------------+--------------------+\n",
            "|LordOfBirds|          null|                  null|             null|I don’t think the...|    true|               0|2022-06-01 19:15:41|         null|1.65411173E9|     0|iatl33z|       false|t3_v1es7w|t1_iatfbem|/r/CombatFootage/...|  1655320304|   11|   false|CombatFootage|    t5_2v0c6|  2022-06-01|  2.551461E-5| 4.1071498E-8|0.92903376|[{document, 0, 36...|think annex terri...|\n",
            "|  2hdgoblin|          null|                  null|             null|They would be abl...|    true|               0|2022-06-01 19:15:42|         null|       false|     0|iatl383|       false|t3_v2hf84| t3_v2hf84|/r/ukraine/commen...|  1655320304|    1|   false|      ukraine|    t5_2qqcn|  2022-06-01|4.3427772E-14|4.1516393E-24| 0.9999467|[{document, 0, 52...|able bomb moscow ...|\n",
            "|    Chonakz|          null|                  null|             null|I'm starting to l...|    true|               0|2022-06-01 19:15:45|         null|       false|     0|iatl3ef|       false|t3_v2onhp| t3_v2onhp|/r/ukraine/commen...|  1655320303|    6|   false|      ukraine|    t5_2qqcn|  2022-06-01|1.6673851E-15|2.4972751E-22| 0.9999799|[{document, 0, 71...|m starting like b...|\n",
            "+-----------+--------------+----------------------+-----------------+--------------------+--------+----------------+-------------------+-------------+------------+------+-------+------------+---------+----------+--------------------+------------+-----+--------+-------------+------------+------------+-------------+-------------+----------+--------------------+--------------------+\n",
            "only showing top 3 rows\n",
            "\n"
          ]
        }
      ],
      "source": [
        "comments_en.show(3)"
      ]
    },
    {
      "cell_type": "markdown",
      "metadata": {
        "id": "ah4hWGx1gJfz"
      },
      "source": [
        "<br>\n",
        "<br>\n",
        "<br>\n",
        "<br>\n",
        "<br>\n",
        "<br>\n",
        "\n",
        "#### **2.1 Apply Topic Modeling Pipeline to both 'Submissions' and 'Comments' data**"
      ]
    },
    {
      "cell_type": "code",
      "execution_count": null,
      "metadata": {
        "id": "rjwQ6M_McSzv"
      },
      "outputs": [],
      "source": [
        "df_sub = submissions_en.select('cleaned_text')\n",
        "df_com = comments_en.select('cleaned_text')"
      ]
    },
    {
      "cell_type": "code",
      "execution_count": null,
      "metadata": {
        "colab": {
          "base_uri": "https://localhost:8080/"
        },
        "id": "1QqtINJAgGIs",
        "outputId": "cc5d435f-ec26-420a-87e3-eacb16b5e878"
      },
      "outputs": [
        {
          "name": "stdout",
          "output_type": "stream",
          "text": [
            "+--------------------+\n",
            "|        cleaned_text|\n",
            "+--------------------+\n",
            "|screenshots kyiv ...|\n",
            "+--------------------+\n",
            "only showing top 1 row\n",
            "\n"
          ]
        }
      ],
      "source": [
        "df_sub.show(1)"
      ]
    },
    {
      "cell_type": "code",
      "execution_count": null,
      "metadata": {
        "colab": {
          "base_uri": "https://localhost:8080/"
        },
        "id": "klzkp9ruch4v",
        "outputId": "9db9fc48-769c-4896-81f9-24a0702c632b"
      },
      "outputs": [
        {
          "name": "stdout",
          "output_type": "stream",
          "text": [
            "+--------------------+\n",
            "|        cleaned_text|\n",
            "+--------------------+\n",
            "|think annex terri...|\n",
            "+--------------------+\n",
            "only showing top 1 row\n",
            "\n"
          ]
        }
      ],
      "source": [
        "df_com.show(1)"
      ]
    },
    {
      "cell_type": "code",
      "execution_count": null,
      "metadata": {
        "colab": {
          "base_uri": "https://localhost:8080/"
        },
        "id": "BDcsT9gTg6ZY",
        "outputId": "b7b72ef6-7c75-4f19-f57a-48043ccce9b2"
      },
      "outputs": [
        {
          "data": {
            "text/plain": [
              "(263623, 6762807, 7026430)"
            ]
          },
          "execution_count": 31,
          "metadata": {},
          "output_type": "execute_result"
        }
      ],
      "source": [
        "(df_sub.count(), df_com.count(), df_sub.count() + df_com.count())"
      ]
    },
    {
      "cell_type": "markdown",
      "metadata": {
        "id": "6v7vwd0ngu2e"
      },
      "source": [
        "Stack dataframes by ROWS using `.union` method"
      ]
    },
    {
      "cell_type": "code",
      "execution_count": null,
      "metadata": {
        "id": "FW_6RYWxciia"
      },
      "outputs": [],
      "source": [
        "df_stacked = df_sub.union(df_com)"
      ]
    },
    {
      "cell_type": "code",
      "execution_count": null,
      "metadata": {
        "colab": {
          "base_uri": "https://localhost:8080/"
        },
        "id": "tOGFTZWMciv8",
        "outputId": "e7e0ab3e-15b0-46bf-c4eb-31d52f4a8776"
      },
      "outputs": [
        {
          "data": {
            "text/plain": [
              "7026430"
            ]
          },
          "execution_count": 33,
          "metadata": {},
          "output_type": "execute_result"
        }
      ],
      "source": [
        "df_stacked.count()"
      ]
    },
    {
      "cell_type": "code",
      "execution_count": null,
      "metadata": {
        "id": "XJi2FCs-ci1Y"
      },
      "outputs": [],
      "source": [
        "processed_combined = pipeline.fit(df_stacked).transform(df_stacked)"
      ]
    },
    {
      "cell_type": "code",
      "execution_count": null,
      "metadata": {
        "id": "kJ-wb6atci7A"
      },
      "outputs": [],
      "source": [
        "tf_model_combined = tfizer.fit(processed_combined)\n",
        "tf_result_combined = tf_model_combined.transform(processed_combined)"
      ]
    },
    {
      "cell_type": "code",
      "execution_count": null,
      "metadata": {
        "id": "Z-K7cS9yci-s"
      },
      "outputs": [],
      "source": [
        "idf_model_combined = idfizer.fit(tf_result_combined)\n",
        "tfidf_result_combined = idf_model_combined.transform(tf_result_combined)"
      ]
    },
    {
      "cell_type": "code",
      "execution_count": null,
      "metadata": {
        "id": "hSli7sONj1le"
      },
      "outputs": [],
      "source": [
        "lda_model_combined = lda.fit(tfidf_result_combined)"
      ]
    },
    {
      "cell_type": "code",
      "execution_count": null,
      "metadata": {
        "id": "VUuLi1Aqj2Om"
      },
      "outputs": [],
      "source": [
        "topics_combined = lda_model_combined  \\\n",
        "     .describeTopics(num_top_words) \\\n",
        "     .withColumn('topicWords', udf_to_words(F.col('termIndices')))\n",
        "\n",
        "topics_combined.select('topic', 'topicWords').show(truncate=100)"
      ]
    },
    {
      "cell_type": "code",
      "source": [
        "topics_df = topics_combined.toPandas()"
      ],
      "metadata": {
        "id": "yqwgYNlgwxvX"
      },
      "execution_count": null,
      "outputs": []
    },
    {
      "cell_type": "code",
      "source": [
        "topics_df['zipped'] =  topics_df.apply(lambda row: list(zip(row[3], row[2])), axis=1)\n",
        "topics_df.drop(['termIndices','termWeights','topicWords'], axis=1, inplace=True)"
      ],
      "metadata": {
        "id": "88F7YGeswxkb"
      },
      "execution_count": null,
      "outputs": []
    },
    {
      "cell_type": "code",
      "source": [
        "words_combined, probs_combined = [], []\n",
        "for topic in range(len(topics_df['zipped'])):\n",
        "  words_combined.append([t[0] for t in topics_df['zipped'][topic]])\n",
        "  probs_combined.append([t[1] for t in topics_df['zipped'][topic]])"
      ],
      "metadata": {
        "id": "BzBEvwGXwDMP"
      },
      "execution_count": null,
      "outputs": []
    },
    {
      "cell_type": "code",
      "source": [
        "fig, ax = plt.subplots(figsize=(15, 7))\n",
        "sns.heatmap(pd.DataFrame(probs_combined).T,\n",
        "            annot = pd.DataFrame(words_combined).T,\n",
        "            fmt='',\n",
        "            ax=ax,\n",
        "            cmap='Blues',\n",
        "            cbar=False)\n",
        "sns.despine()\n",
        "fig.tight_layout()"
      ],
      "metadata": {
        "id": "AqmXYQwwxAtQ"
      },
      "execution_count": null,
      "outputs": []
    },
    {
      "cell_type": "code",
      "source": [],
      "metadata": {
        "id": "2l-zz6DYxAqU"
      },
      "execution_count": null,
      "outputs": []
    },
    {
      "cell_type": "code",
      "source": [],
      "metadata": {
        "id": "DwJcxDNnxAnu"
      },
      "execution_count": null,
      "outputs": []
    },
    {
      "cell_type": "code",
      "source": [],
      "metadata": {
        "id": "9161MsHTxAk3"
      },
      "execution_count": null,
      "outputs": []
    },
    {
      "cell_type": "code",
      "source": [],
      "metadata": {
        "id": "lBLZQT8WxAhr"
      },
      "execution_count": null,
      "outputs": []
    },
    {
      "cell_type": "markdown",
      "metadata": {
        "id": "PjSms_Kycdmd"
      },
      "source": [
        "Reference: <br>\n",
        "https://spark.apache.org/docs/latest/api/python/reference/api/pyspark.ml.clustering.LDA.html#pyspark.ml.clustering.LDA.fitMultiple <br><br>\n",
        "\n",
        "https://medium.com/trustyou-engineering/topic-modelling-with-pyspark-and-spark-nlp-a99d063f1a6e \n",
        "<br><br>\n",
        "\n",
        "https://databricks-prod-cloudfront.cloud.databricks.com/public/4027ec902e239c93eaaa8714f173bcfc/3741049972324885/3783546674231782/4413065072037724/latest.html\n",
        "<br><br>"
      ]
    },
    {
      "cell_type": "code",
      "execution_count": null,
      "metadata": {
        "id": "gVC86HSJBLPl"
      },
      "outputs": [],
      "source": []
    }
  ],
  "metadata": {
    "colab": {
      "provenance": [],
      "mount_file_id": "14bf2kwdU4f5UBUYEkTJO01NjFtWEZU_-",
      "authorship_tag": "ABX9TyNwnjSIXQWE4wZAE6e6QcG3",
      "include_colab_link": true
    },
    "kernelspec": {
      "display_name": "Python 3",
      "name": "python3"
    },
    "language_info": {
      "name": "python"
    }
  },
  "nbformat": 4,
  "nbformat_minor": 0
}