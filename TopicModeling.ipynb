{
  "nbformat": 4,
  "nbformat_minor": 0,
  "metadata": {
    "colab": {
      "provenance": [],
      "mount_file_id": "14bf2kwdU4f5UBUYEkTJO01NjFtWEZU_-",
      "authorship_tag": "ABX9TyOLVIrgzTM1pVrlOO34dsR8",
      "include_colab_link": true
    },
    "kernelspec": {
      "name": "python3",
      "display_name": "Python 3"
    },
    "language_info": {
      "name": "python"
    }
  },
  "cells": [
    {
      "cell_type": "markdown",
      "metadata": {
        "id": "view-in-github",
        "colab_type": "text"
      },
      "source": [
        "<a href=\"https://colab.research.google.com/github/hss0727/BigData_project_Spark/blob/main/TopicModeling.ipynb\" target=\"_parent\"><img src=\"https://colab.research.google.com/assets/colab-badge.svg\" alt=\"Open In Colab\"/></a>"
      ]
    },
    {
      "cell_type": "code",
      "execution_count": 1,
      "metadata": {
        "colab": {
          "base_uri": "https://localhost:8080/"
        },
        "id": "qYJWCRtixqzc",
        "outputId": "832741b8-dea6-4257-9b8c-335c5a4c2586"
      },
      "outputs": [
        {
          "output_type": "stream",
          "name": "stdout",
          "text": [
            "Drive already mounted at /content/drive/; to attempt to forcibly remount, call drive.mount(\"/content/drive/\", force_remount=True).\n"
          ]
        }
      ],
      "source": [
        "from google.colab import drive\n",
        "drive.mount('/content/drive/')\n"
      ]
    },
    {
      "cell_type": "code",
      "source": [
        "!pip install findspark\n",
        "!pip install pyspark\n",
        "!pip install sparknlp\n",
        "!pip install nltk\n"
      ],
      "metadata": {
        "colab": {
          "base_uri": "https://localhost:8080/"
        },
        "id": "7Hd3ShBWx4aN",
        "outputId": "7b6ab579-0be9-42b6-d8e3-890a50764aa8"
      },
      "execution_count": 3,
      "outputs": [
        {
          "output_type": "stream",
          "name": "stdout",
          "text": [
            "Looking in indexes: https://pypi.org/simple, https://us-python.pkg.dev/colab-wheels/public/simple/\n",
            "Collecting findspark\n",
            "  Downloading findspark-2.0.1-py2.py3-none-any.whl (4.4 kB)\n",
            "Installing collected packages: findspark\n",
            "Successfully installed findspark-2.0.1\n",
            "Looking in indexes: https://pypi.org/simple, https://us-python.pkg.dev/colab-wheels/public/simple/\n",
            "Collecting pyspark\n",
            "  Downloading pyspark-3.3.1.tar.gz (281.4 MB)\n",
            "\u001b[K     |████████████████████████████████| 281.4 MB 51 kB/s \n",
            "\u001b[?25hCollecting py4j==0.10.9.5\n",
            "  Downloading py4j-0.10.9.5-py2.py3-none-any.whl (199 kB)\n",
            "\u001b[K     |████████████████████████████████| 199 kB 85.7 MB/s \n",
            "\u001b[?25hBuilding wheels for collected packages: pyspark\n",
            "  Building wheel for pyspark (setup.py) ... \u001b[?25l\u001b[?25hdone\n",
            "  Created wheel for pyspark: filename=pyspark-3.3.1-py2.py3-none-any.whl size=281845514 sha256=e75d1ccaa2265f9fe23c9cb916d6f8e6a56b1fb06bfc88d5ff864df3e40a3b52\n",
            "  Stored in directory: /root/.cache/pip/wheels/42/59/f5/79a5bf931714dcd201b26025347785f087370a10a3329a899c\n",
            "Successfully built pyspark\n",
            "Installing collected packages: py4j, pyspark\n",
            "Successfully installed py4j-0.10.9.5 pyspark-3.3.1\n",
            "Looking in indexes: https://pypi.org/simple, https://us-python.pkg.dev/colab-wheels/public/simple/\n",
            "Collecting sparknlp\n",
            "  Downloading sparknlp-1.0.0-py3-none-any.whl (1.4 kB)\n",
            "Collecting spark-nlp\n",
            "  Downloading spark_nlp-4.2.3-py2.py3-none-any.whl (648 kB)\n",
            "\u001b[K     |████████████████████████████████| 648 kB 5.7 MB/s \n",
            "\u001b[?25hRequirement already satisfied: numpy in /usr/local/lib/python3.7/dist-packages (from sparknlp) (1.21.6)\n",
            "Installing collected packages: spark-nlp, sparknlp\n",
            "Successfully installed spark-nlp-4.2.3 sparknlp-1.0.0\n",
            "Looking in indexes: https://pypi.org/simple, https://us-python.pkg.dev/colab-wheels/public/simple/\n",
            "Requirement already satisfied: nltk in /usr/local/lib/python3.7/dist-packages (3.7)\n",
            "Requirement already satisfied: click in /usr/local/lib/python3.7/dist-packages (from nltk) (7.1.2)\n",
            "Requirement already satisfied: joblib in /usr/local/lib/python3.7/dist-packages (from nltk) (1.2.0)\n",
            "Requirement already satisfied: tqdm in /usr/local/lib/python3.7/dist-packages (from nltk) (4.64.1)\n",
            "Requirement already satisfied: regex>=2021.8.3 in /usr/local/lib/python3.7/dist-packages (from nltk) (2022.6.2)\n"
          ]
        }
      ]
    },
    {
      "cell_type": "code",
      "source": [
        "from sparknlp.pretrained import PretrainedPipeline\n",
        "import sparknlp\n",
        "import pyspark.sql.functions as F\n",
        "from pyspark.sql.functions import col"
      ],
      "metadata": {
        "id": "bGxrRsO6yTwO"
      },
      "execution_count": 4,
      "outputs": []
    },
    {
      "cell_type": "code",
      "source": [
        "# Start Spark Session with Spark NLP\n",
        "spark = sparknlp.start()"
      ],
      "metadata": {
        "id": "phO0KkJpzIfh"
      },
      "execution_count": 5,
      "outputs": []
    },
    {
      "cell_type": "code",
      "source": [
        "submissions_en = spark.read.parquet(\"/content/drive/Shareddrives/502_project/data/submissions_en_cleaned\")"
      ],
      "metadata": {
        "id": "-g31LTiPzTkv"
      },
      "execution_count": 7,
      "outputs": []
    },
    {
      "cell_type": "code",
      "source": [
        "submissions_en.show(3)"
      ],
      "metadata": {
        "colab": {
          "base_uri": "https://localhost:8080/"
        },
        "id": "VL75lpYh4Y-6",
        "outputId": "11d0635e-a0e0-4288-dc04-fe337d848303"
      },
      "execution_count": 8,
      "outputs": [
        {
          "output_type": "stream",
          "name": "stdout",
          "text": [
            "+------------------+------------------+--------+-----------------+--------------+----------------------+-----------------+---------+----------+------------+-------------------+----------------+---------------------+----------------+-------------+----------------+---------------+------+----------+---------+------+------+----------+--------+------+---------+----------------+----------------------+-------+--------+--------------------+--------------------+------+-----+--------------------+-------------+------------+--------------+-------------+-------+-----------------------+--------------------+------+---------+-------+--------+-----------+---------------------+------------+------------+-----+------------+--------------------+---------+-------+--------+-----------------+------------+--------------+--------------------+--------------------+----------------------+--------------------+----------------+---------------+--------------------+--------------------+----------------+------------+--------------------+------------+-------------+----------+--------------------+--------------------+\n",
            "|adserver_click_url|adserver_imp_pixel|archived|           author|author_cakeday|author_flair_css_class|author_flair_text|author_id|brand_safe|contest_mode|        created_utc|crosspost_parent|crosspost_parent_list|disable_comments|distinguished|          domain|domain_override|edited|embed_type|embed_url|gilded|hidden|hide_score|href_url|    id|imp_pixel|is_crosspostable|is_reddit_media_domain|is_self|is_video|link_flair_css_class|     link_flair_text|locked|media|         media_embed|mobile_ad_url|num_comments|num_crossposts|original_link|over_18|parent_whitelist_status|           permalink|pinned|post_hint|preview|promoted|promoted_by|promoted_display_name|promoted_url|retrieved_on|score|secure_media|  secure_media_embed| selftext|spoiler|stickied|        subreddit|subreddit_id|suggested_sort|third_party_trackers|third_party_tracking|third_party_tracking_2|           thumbnail|thumbnail_height|thumbnail_width|               title|                 url|whitelist_status|created_date|                text|     Russian|    Ukrainian|   English|  normalizedDocument|        cleaned_text|\n",
            "+------------------+------------------+--------+-----------------+--------------+----------------------+-----------------+---------+----------+------------+-------------------+----------------+---------------------+----------------+-------------+----------------+---------------+------+----------+---------+------+------+----------+--------+------+---------+----------------+----------------------+-------+--------+--------------------+--------------------+------+-----+--------------------+-------------+------------+--------------+-------------+-------+-----------------------+--------------------+------+---------+-------+--------+-----------+---------------------+------------+------------+-----+------------+--------------------+---------+-------+--------+-----------------+------------+--------------+--------------------+--------------------+----------------------+--------------------+----------------+---------------+--------------------+--------------------+----------------+------------+--------------------+------------+-------------+----------+--------------------+--------------------+\n",
            "|              null|              null|   false|        jmsferret|          null|                  null|             null|     null|      null|       false|2022-03-02 15:44:39|            null|                 null|            null|         null|      reddit.com|           null| false|      null|     null|     0| false|     false|    null|t52xeb|     null|            true|                 false|  false|   false|                    |Russian-Ukrainian...| false| null|{null, null, null...|         null|          10|             0|         null|  false|                 no_ads|/r/ukraine/commen...| false|     null|   null|    null|       null|                 null|        null|  1654087400|   63|        null|{null, null, null...|         |  false|   false|          ukraine|    t5_2qqcn|    confidence|                null|                null|                  null|https://b.thumbs....|             140|            140|More screenshots ...|https://www.reddi...|          no_ads|  2022-03-02|More screenshots ...| 4.765386E-9|6.7226677E-13|0.97249687|[{document, 0, 34...|screenshots kyiv ...|\n",
            "|              null|              null|   false|Fearless-Let-5934|          null|                  null|             null|     null|      null|       false|2022-03-02 15:45:03|       t3_t52vbm| [{null, null, fal...|            null|         null|       v.redd.it|           null| false|      null|     null|     0| false|     false|    null|t52xoe|     null|           false|                  true|  false|   false|                null|                null| false| null|{null, null, null...|         null|           4|             0|         null|  false|                 no_ads|/r/UkrainianConfl...| false|     null|   null|    null|       null|                 null|        null|  1654087399|  132|        null|{null, null, null...|         |  false|   false|UkrainianConflict|    t5_30hhs|    confidence|                null|                null|                  null|             default|             140|            140|\"IRKUTSK! We are ...|https://v.redd.it...|          no_ads|  2022-03-02|\"IRKUTSK! We are ...|5.0543235E-6| 3.7675466E-7| 0.6789498|[{document, 0, 74...|irkutsk peace pro...|\n",
            "|              null|              null|   false|        [deleted]|          null|                  null|             null|     null|      null|       false|2022-03-02 15:45:13|       t3_t52dan| [{null, null, fal...|            null|         null|off-guardian.org|           null| false|      null|     null|     0| false|     false|    null|t52xsw|     null|           false|                 false|  false|   false|                null|                null| false| null|{null, null, null...|         null|           2|             0|         null|  false|                   null|/r/UkrainianConfl...| false|     null|   null|    null|       null|                 null|        null|  1654087398|    2|        null|{null, null, null...|[deleted]|  false|   false|UkrainianConflict|    t5_30hhs|    confidence|                null|                null|                  null|             default|              64|            140|r/Conservative ho...|https://off-guard...|            null|  2022-03-02|r/Conservative ho...|1.3181523E-6|3.6690642E-10| 0.9572452|[{document, 0, 43...|r conservative ho...|\n",
            "+------------------+------------------+--------+-----------------+--------------+----------------------+-----------------+---------+----------+------------+-------------------+----------------+---------------------+----------------+-------------+----------------+---------------+------+----------+---------+------+------+----------+--------+------+---------+----------------+----------------------+-------+--------+--------------------+--------------------+------+-----+--------------------+-------------+------------+--------------+-------------+-------+-----------------------+--------------------+------+---------+-------+--------+-----------+---------------------+------------+------------+-----+------------+--------------------+---------+-------+--------+-----------------+------------+--------------+--------------------+--------------------+----------------------+--------------------+----------------+---------------+--------------------+--------------------+----------------+------------+--------------------+------------+-------------+----------+--------------------+--------------------+\n",
            "only showing top 3 rows\n",
            "\n"
          ]
        }
      ]
    },
    {
      "cell_type": "code",
      "source": [
        "text = submissions_en.select('cleaned_text')"
      ],
      "metadata": {
        "id": "VLJ9OCuK4frc"
      },
      "execution_count": 27,
      "outputs": []
    },
    {
      "cell_type": "code",
      "source": [
        "\"\"\"\n",
        "Reference: Topic Modeling with Pyspark\n",
        "https://medium.com/trustyou-engineering/topic-modelling-with-pyspark-and-spark-nlp-a99d063f1a6e\n",
        "\"\"\""
      ],
      "metadata": {
        "colab": {
          "base_uri": "https://localhost:8080/",
          "height": 53
        },
        "id": "y_SHSFnT9TCM",
        "outputId": "82cca294-7c86-42da-d23b-61a334433f45"
      },
      "execution_count": 28,
      "outputs": [
        {
          "output_type": "execute_result",
          "data": {
            "text/plain": [
              "'\\nReference: Topic Modeling with Pyspark\\nhttps://medium.com/trustyou-engineering/topic-modelling-with-pyspark-and-spark-nlp-a99d063f1a6e\\n'"
            ],
            "application/vnd.google.colaboratory.intrinsic+json": {
              "type": "string"
            }
          },
          "metadata": {},
          "execution_count": 28
        }
      ]
    },
    {
      "cell_type": "code",
      "source": [
        "# Transform data to annotation format using DocumentAssembler\n",
        "from sparknlp.base import DocumentAssembler\n",
        "documentAssembler = DocumentAssembler() \\\n",
        "  .setInputCol('cleaned_text')  \\\n",
        "  .setOutputCol('document')"
      ],
      "metadata": {
        "id": "5SJ1a05P7Knd"
      },
      "execution_count": 29,
      "outputs": []
    },
    {
      "cell_type": "code",
      "source": [
        "# Setup Tokenizer\n",
        "from sparknlp.annotator import Tokenizer\n",
        "tokenizer = Tokenizer() \\\n",
        "  .setInputCols(['document']) \\\n",
        "  .setOutputCol('tokenized')"
      ],
      "metadata": {
        "id": "QQjxWat08sKR"
      },
      "execution_count": 30,
      "outputs": []
    },
    {
      "cell_type": "code",
      "source": [
        "# Setup Normalization\n",
        "from sparknlp.annotator import Normalizer\n",
        "normalizer = Normalizer() \\\n",
        "  .setInputCols(['tokenized'])  \\\n",
        "  .setOutputCol('normalized') \\\n",
        "  .setLowercase(True)"
      ],
      "metadata": {
        "id": "OXI3xcTi9B3G"
      },
      "execution_count": 31,
      "outputs": []
    },
    {
      "cell_type": "code",
      "source": [
        "# Setup Lemmatizer\n",
        "from sparknlp.annotator import LemmatizerModel\n",
        "lemmatizer = LemmatizerModel.pretrained() \\\n",
        "     .setInputCols(['normalized']) \\\n",
        "     .setOutputCol('lemmatized')"
      ],
      "metadata": {
        "colab": {
          "base_uri": "https://localhost:8080/"
        },
        "id": "8J9yKDJA-AfZ",
        "outputId": "e2456055-6def-4b9d-ba1f-9a1cfacbb1b9"
      },
      "execution_count": 32,
      "outputs": [
        {
          "output_type": "stream",
          "name": "stdout",
          "text": [
            "lemma_antbnc download started this may take some time.\n",
            "Approximate size to download 907.6 KB\n",
            "[OK!]\n"
          ]
        }
      ]
    },
    {
      "cell_type": "code",
      "source": [
        "# Setup stopwords\n",
        "import nltk\n",
        "from nltk.corpus import stopwords\n",
        "nltk.download('stopwords')\n",
        "eng_stopwords = stopwords.words('english')"
      ],
      "metadata": {
        "colab": {
          "base_uri": "https://localhost:8080/"
        },
        "id": "xCmaJCwb-Ifw",
        "outputId": "8667b8bf-1af0-49a8-948c-475bfceb89e2"
      },
      "execution_count": 33,
      "outputs": [
        {
          "output_type": "stream",
          "name": "stderr",
          "text": [
            "[nltk_data] Downloading package stopwords to /root/nltk_data...\n",
            "[nltk_data]   Package stopwords is already up-to-date!\n"
          ]
        }
      ]
    },
    {
      "cell_type": "code",
      "source": [
        "type(eng_stopwords)"
      ],
      "metadata": {
        "colab": {
          "base_uri": "https://localhost:8080/"
        },
        "id": "BwZPKqfnVTWg",
        "outputId": "b5c8a51d-381b-4f03-ad39-9fb06dfaf6f1"
      },
      "execution_count": 34,
      "outputs": [
        {
          "output_type": "execute_result",
          "data": {
            "text/plain": [
              "list"
            ]
          },
          "metadata": {},
          "execution_count": 34
        }
      ]
    },
    {
      "cell_type": "code",
      "source": [
        "# Add stopwords\n",
        "new_stop_words = ['russia','russian','ukraine','ukrainian','delete']\n",
        "eng_stopwords = eng_stopwords + new_stop_words"
      ],
      "metadata": {
        "id": "IyADyOTNUqfC"
      },
      "execution_count": 35,
      "outputs": []
    },
    {
      "cell_type": "code",
      "source": [
        "# Setup stop words cleaner\n",
        "from sparknlp.annotator import StopWordsCleaner\n",
        "stopwords_cleaner = StopWordsCleaner() \\\n",
        "     .setInputCols(['lemmatized']) \\\n",
        "     .setOutputCol('no_stop_lemmatized') \\\n",
        "     .setStopWords(eng_stopwords)"
      ],
      "metadata": {
        "id": "3N_y1HlK-WtE"
      },
      "execution_count": 36,
      "outputs": []
    },
    {
      "cell_type": "code",
      "source": [
        "# Transformation from the annotation format of SparkNLP to a human-readable format\n",
        "from sparknlp.base import Finisher\n",
        "finisher = Finisher() \\\n",
        "     .setInputCols(['no_stop_lemmatized']) \\\n",
        "     .setIncludeMetadata(True)"
      ],
      "metadata": {
        "id": "bvFAaBm8-3bK"
      },
      "execution_count": 37,
      "outputs": []
    },
    {
      "cell_type": "code",
      "source": [
        "# Define pipeline\n",
        "from pyspark.ml import Pipeline\n",
        "pipeline = Pipeline() \\\n",
        "     .setStages([documentAssembler,\n",
        "                 tokenizer,\n",
        "                 normalizer,\n",
        "                 lemmatizer,\n",
        "                 stopwords_cleaner,\n",
        "                 finisher])"
      ],
      "metadata": {
        "id": "NNNA-DVVAlbi"
      },
      "execution_count": 38,
      "outputs": []
    },
    {
      "cell_type": "code",
      "source": [
        "processed_text = pipeline.fit(text).transform(text)"
      ],
      "metadata": {
        "id": "Zwp6fYMNAvSj"
      },
      "execution_count": 39,
      "outputs": []
    },
    {
      "cell_type": "code",
      "source": [
        "processed_text.show(truncate=False)"
      ],
      "metadata": {
        "colab": {
          "base_uri": "https://localhost:8080/"
        },
        "id": "66k4yBeVA2W_",
        "outputId": "1b0b4afe-6d94-47c2-cb9f-8e0985335366"
      },
      "execution_count": 40,
      "outputs": [
        {
          "output_type": "stream",
          "name": "stdout",
          "text": [
            "+------------------------------------------------------------------------------------------------------------------------------------------------------------------------------------------+---------------------------------------------------------------------------------------------------------------------------------------------------------------------------------------+---------------------------------------------------------------------------------------------------------------------------------------------------------------------------------------------------------------------------------------------------------------------------------------------------------------------------------------------------------+\n",
            "|cleaned_text                                                                                                                                                                              |finished_no_stop_lemmatized                                                                                                                                                            |finished_no_stop_lemmatized_metadata                                                                                                                                                                                                                                                                                                                     |\n",
            "+------------------------------------------------------------------------------------------------------------------------------------------------------------------------------------------+---------------------------------------------------------------------------------------------------------------------------------------------------------------------------------------+---------------------------------------------------------------------------------------------------------------------------------------------------------------------------------------------------------------------------------------------------------------------------------------------------------------------------------------------------------+\n",
            "|screenshots kyiv resident                                                                                                                                                                 |[screenshot, kyiv, resident]                                                                                                                                                           |[{sentence, 0}, {sentence, 0}, {sentence, 0}]                                                                                                                                                                                                                                                                                                            |\n",
            "|irkutsk peace protester russia seen led away police                                                                                                                                       |[irkutsk, peace, protester, see, lead, away, police]                                                                                                                                   |[{sentence, 0}, {sentence, 0}, {sentence, 0}, {sentence, 0}, {sentence, 0}, {sentence, 0}, {sentence, 0}]                                                                                                                                                                                                                                                |\n",
            "|r conservative holding purim water call                                                                                                                                                   |[r, conservative, hold, purim, water, call]                                                                                                                                            |[{sentence, 0}, {sentence, 0}, {sentence, 0}, {sentence, 0}, {sentence, 0}, {sentence, 0}]                                                                                                                                                                                                                                                               |\n",
            "|energodar right                                                                                                                                                                           |[energodar, right]                                                                                                                                                                     |[{sentence, 0}, {sentence, 0}]                                                                                                                                                                                                                                                                                                                           |\n",
            "|take advice russian prisoners                                                                                                                                                             |[take, advice, prisoner]                                                                                                                                                               |[{sentence, 0}, {sentence, 0}, {sentence, 0}]                                                                                                                                                                                                                                                                                                            |\n",
            "|ukraine russia war ukraine says civilians dead fierce fighting cities updates                                                                                                             |[war, say, civilian, dead, fierce, fight, city, update]                                                                                                                                |[{sentence, 0}, {sentence, 0}, {sentence, 0}, {sentence, 0}, {sentence, 0}, {sentence, 0}, {sentence, 0}, {sentence, 0}]                                                                                                                                                                                                                                 |\n",
            "|energodar russian invaders used weapons ukrainians                                                                                                                                        |[energodar, invader, use, weapon]                                                                                                                                                      |[{sentence, 0}, {sentence, 0}, {sentence, 0}, {sentence, 0}]                                                                                                                                                                                                                                                                                             |\n",
            "|russian tank fires directly residential building nearly hits person                                                                                                                       |[tank, fire, directly, residential, build, nearly, hit, person]                                                                                                                        |[{sentence, 0}, {sentence, 0}, {sentence, 0}, {sentence, 0}, {sentence, 0}, {sentence, 0}, {sentence, 0}, {sentence, 0}]                                                                                                                                                                                                                                 |\n",
            "|kharkiv region territorial defence people army captured driving tank                                                                                                                      |[kharkiv, region, territorial, defence, people, army, capture, drive, tank]                                                                                                            |[{sentence, 0}, {sentence, 0}, {sentence, 0}, {sentence, 0}, {sentence, 0}, {sentence, 0}, {sentence, 0}, {sentence, 0}, {sentence, 0}]                                                                                                                                                                                                                  |\n",
            "|irkutsk peace protester russia seen led away police                                                                                                                                       |[irkutsk, peace, protester, see, lead, away, police]                                                                                                                                   |[{sentence, 0}, {sentence, 0}, {sentence, 0}, {sentence, 0}, {sentence, 0}, {sentence, 0}, {sentence, 0}]                                                                                                                                                                                                                                                |\n",
            "|racist ukrainians letting indian students board trains                                                                                                                                    |[racist, let, indian, student, board, train]                                                                                                                                           |[{sentence, 0}, {sentence, 0}, {sentence, 0}, {sentence, 0}, {sentence, 0}, {sentence, 0}]                                                                                                                                                                                                                                                               |\n",
            "|russia ukraine war live civilians killed hostilities far rd world war nuclear says russian minister                                                                                       |[war, live, civilian, kill, hostility, far, rd, world, war, nuclear, say, minister]                                                                                                    |[{sentence, 0}, {sentence, 0}, {sentence, 0}, {sentence, 0}, {sentence, 0}, {sentence, 0}, {sentence, 0}, {sentence, 0}, {sentence, 0}, {sentence, 0}, {sentence, 0}, {sentence, 0}]                                                                                                                                                                     |\n",
            "|russia say ukraine neo nazis anyone ever watch ross kemp gangs personally met russian neo nazis russia                                                                                    |[say, neo, nazi, anyone, ever, watch, ross, kemp, gang, personally, meet, neo, nazi]                                                                                                   |[{sentence, 0}, {sentence, 0}, {sentence, 0}, {sentence, 0}, {sentence, 0}, {sentence, 0}, {sentence, 0}, {sentence, 0}, {sentence, 0}, {sentence, 0}, {sentence, 0}, {sentence, 0}, {sentence, 0}]                                                                                                                                                      |\n",
            "|casualty update kyiv independent shares official reporting state emergency service civilians killed russian troops since invasion ukraine began february                                  |[casualty, update, kyiv, independent, share, official, report, state, emergency, service, civilian, kill, troop, since, invasion, begin, february]                                     |[{sentence, 0}, {sentence, 0}, {sentence, 0}, {sentence, 0}, {sentence, 0}, {sentence, 0}, {sentence, 0}, {sentence, 0}, {sentence, 0}, {sentence, 0}, {sentence, 0}, {sentence, 0}, {sentence, 0}, {sentence, 0}, {sentence, 0}, {sentence, 0}, {sentence, 0}]                                                                                          |\n",
            "|appeal mothers fathers brothers sisters sons daughters fellow citizens russia                                                                                                             |[appeal, mother, father, brother, sister, son, daughter, fellow, citizen]                                                                                                              |[{sentence, 0}, {sentence, 0}, {sentence, 0}, {sentence, 0}, {sentence, 0}, {sentence, 0}, {sentence, 0}, {sentence, 0}, {sentence, 0}]                                                                                                                                                                                                                  |\n",
            "|masterplan ukraine make indian students hostage get india side                                                                                                                            |[masterplan, make, indian, student, hostage, get, india, side]                                                                                                                         |[{sentence, 0}, {sentence, 0}, {sentence, 0}, {sentence, 0}, {sentence, 0}, {sentence, 0}, {sentence, 0}, {sentence, 0}]                                                                                                                                                                                                                                 |\n",
            "|scale ukrainian heroism russian terrorism                                                                                                                                                 |[scale, heroism, terrorism]                                                                                                                                                            |[{sentence, 0}, {sentence, 0}, {sentence, 0}]                                                                                                                                                                                                                                                                                                            |\n",
            "|masterplan ukraine make indian students hostage get india side                                                                                                                            |[masterplan, make, indian, student, hostage, get, india, side]                                                                                                                         |[{sentence, 0}, {sentence, 0}, {sentence, 0}, {sentence, 0}, {sentence, 0}, {sentence, 0}, {sentence, 0}, {sentence, 0}]                                                                                                                                                                                                                                 |\n",
            "|war ukraine fated end russian civil war fsb helps stop zelensky assassins                                                                                                                 |[war, fate, end, civil, war, fsb, help, stop, zelensky, assassin]                                                                                                                      |[{sentence, 0}, {sentence, 0}, {sentence, 0}, {sentence, 0}, {sentence, 0}, {sentence, 0}, {sentence, 0}, {sentence, 0}, {sentence, 0}, {sentence, 0}]                                                                                                                                                                                                   |\n",
            "|russian delegation came city konotop negotiate surrender effectively said city destroyed fighting otherwise lead russian soldier walking around two hand grenades held air presumably pins|[delegation, come, city, konotop, negotiate, surrender, effectively, say, city, destroy, fight, otherwise, lead, soldier, walk, around, two, hand, grenade, hold, air, presumably, pin]|[{sentence, 0}, {sentence, 0}, {sentence, 0}, {sentence, 0}, {sentence, 0}, {sentence, 0}, {sentence, 0}, {sentence, 0}, {sentence, 0}, {sentence, 0}, {sentence, 0}, {sentence, 0}, {sentence, 0}, {sentence, 0}, {sentence, 0}, {sentence, 0}, {sentence, 0}, {sentence, 0}, {sentence, 0}, {sentence, 0}, {sentence, 0}, {sentence, 0}, {sentence, 0}]|\n",
            "+------------------------------------------------------------------------------------------------------------------------------------------------------------------------------------------+---------------------------------------------------------------------------------------------------------------------------------------------------------------------------------------+---------------------------------------------------------------------------------------------------------------------------------------------------------------------------------------------------------------------------------------------------------------------------------------------------------------------------------------------------------+\n",
            "only showing top 20 rows\n",
            "\n"
          ]
        }
      ]
    },
    {
      "cell_type": "code",
      "source": [
        "from pyspark.ml.feature import CountVectorizer\n",
        "tfizer = CountVectorizer(inputCol='finished_no_stop_lemmatized',\n",
        "                         outputCol='tf_features')\n",
        "tf_model = tfizer.fit(processed_text)\n",
        "tf_result = tf_model.transform(processed_text)"
      ],
      "metadata": {
        "id": "rxMt0cOiBHgh"
      },
      "execution_count": 41,
      "outputs": []
    },
    {
      "cell_type": "code",
      "source": [
        "tf_result.show(truncate=False)"
      ],
      "metadata": {
        "colab": {
          "base_uri": "https://localhost:8080/"
        },
        "id": "6R8YLAgUE2hp",
        "outputId": "82556af9-e42c-4c4e-9b22-e4753f253bce"
      },
      "execution_count": 42,
      "outputs": [
        {
          "output_type": "stream",
          "name": "stdout",
          "text": [
            "+------------------------------------------------------------------------------------------------------------------------------------------------------------------------------------------+---------------------------------------------------------------------------------------------------------------------------------------------------------------------------------------+---------------------------------------------------------------------------------------------------------------------------------------------------------------------------------------------------------------------------------------------------------------------------------------------------------------------------------------------------------+----------------------------------------------------------------------------------------------------------------------------------------------------------------------------------------+\n",
            "|cleaned_text                                                                                                                                                                              |finished_no_stop_lemmatized                                                                                                                                                            |finished_no_stop_lemmatized_metadata                                                                                                                                                                                                                                                                                                                     |tf_features                                                                                                                                                                             |\n",
            "+------------------------------------------------------------------------------------------------------------------------------------------------------------------------------------------+---------------------------------------------------------------------------------------------------------------------------------------------------------------------------------------+---------------------------------------------------------------------------------------------------------------------------------------------------------------------------------------------------------------------------------------------------------------------------------------------------------------------------------------------------------+----------------------------------------------------------------------------------------------------------------------------------------------------------------------------------------+\n",
            "|screenshots kyiv resident                                                                                                                                                                 |[screenshot, kyiv, resident]                                                                                                                                                           |[{sentence, 0}, {sentence, 0}, {sentence, 0}]                                                                                                                                                                                                                                                                                                            |(59542,[12,374,3690],[1.0,1.0,1.0])                                                                                                                                                     |\n",
            "|irkutsk peace protester russia seen led away police                                                                                                                                       |[irkutsk, peace, protester, see, lead, away, police]                                                                                                                                   |[{sentence, 0}, {sentence, 0}, {sentence, 0}, {sentence, 0}, {sentence, 0}, {sentence, 0}, {sentence, 0}]                                                                                                                                                                                                                                                |(59542,[20,233,307,427,455,1396,6346],[1.0,1.0,1.0,1.0,1.0,1.0,1.0])                                                                                                                    |\n",
            "|r conservative holding purim water call                                                                                                                                                   |[r, conservative, hold, purim, water, call]                                                                                                                                            |[{sentence, 0}, {sentence, 0}, {sentence, 0}, {sentence, 0}, {sentence, 0}, {sentence, 0}]                                                                                                                                                                                                                                                               |(59542,[53,196,265,591,4025,13088],[1.0,1.0,1.0,1.0,1.0,1.0])                                                                                                                           |\n",
            "|energodar right                                                                                                                                                                           |[energodar, right]                                                                                                                                                                     |[{sentence, 0}, {sentence, 0}]                                                                                                                                                                                                                                                                                                                           |(59542,[69,2755],[1.0,1.0])                                                                                                                                                             |\n",
            "|take advice russian prisoners                                                                                                                                                             |[take, advice, prisoner]                                                                                                                                                               |[{sentence, 0}, {sentence, 0}, {sentence, 0}]                                                                                                                                                                                                                                                                                                            |(59542,[11,635,1214],[1.0,1.0,1.0])                                                                                                                                                     |\n",
            "|ukraine russia war ukraine says civilians dead fierce fighting cities updates                                                                                                             |[war, say, civilian, dead, fierce, fight, city, update]                                                                                                                                |[{sentence, 0}, {sentence, 0}, {sentence, 0}, {sentence, 0}, {sentence, 0}, {sentence, 0}, {sentence, 0}, {sentence, 0}]                                                                                                                                                                                                                                 |(59542,[0,2,17,32,44,168,204,2404],[1.0,1.0,1.0,1.0,1.0,1.0,1.0,1.0])                                                                                                                   |\n",
            "|energodar russian invaders used weapons ukrainians                                                                                                                                        |[energodar, invader, use, weapon]                                                                                                                                                      |[{sentence, 0}, {sentence, 0}, {sentence, 0}, {sentence, 0}]                                                                                                                                                                                                                                                                                             |(59542,[15,45,164,2755],[1.0,1.0,1.0,1.0])                                                                                                                                              |\n",
            "|russian tank fires directly residential building nearly hits person                                                                                                                       |[tank, fire, directly, residential, build, nearly, hit, person]                                                                                                                        |[{sentence, 0}, {sentence, 0}, {sentence, 0}, {sentence, 0}, {sentence, 0}, {sentence, 0}, {sentence, 0}, {sentence, 0}]                                                                                                                                                                                                                                 |(59542,[18,46,82,200,499,697,790,1125],[1.0,1.0,1.0,1.0,1.0,1.0,1.0,1.0])                                                                                                               |\n",
            "|kharkiv region territorial defence people army captured driving tank                                                                                                                      |[kharkiv, region, territorial, defence, people, army, capture, drive, tank]                                                                                                            |[{sentence, 0}, {sentence, 0}, {sentence, 0}, {sentence, 0}, {sentence, 0}, {sentence, 0}, {sentence, 0}, {sentence, 0}, {sentence, 0}]                                                                                                                                                                                                                  |(59542,[4,18,23,36,74,76,362,493,689],[1.0,1.0,1.0,1.0,1.0,1.0,1.0,1.0,1.0])                                                                                                            |\n",
            "|irkutsk peace protester russia seen led away police                                                                                                                                       |[irkutsk, peace, protester, see, lead, away, police]                                                                                                                                   |[{sentence, 0}, {sentence, 0}, {sentence, 0}, {sentence, 0}, {sentence, 0}, {sentence, 0}, {sentence, 0}]                                                                                                                                                                                                                                                |(59542,[20,233,307,427,455,1396,6346],[1.0,1.0,1.0,1.0,1.0,1.0,1.0])                                                                                                                    |\n",
            "|racist ukrainians letting indian students board trains                                                                                                                                    |[racist, let, indian, student, board, train]                                                                                                                                           |[{sentence, 0}, {sentence, 0}, {sentence, 0}, {sentence, 0}, {sentence, 0}, {sentence, 0}]                                                                                                                                                                                                                                                               |(59542,[136,329,588,988,1460,2419],[1.0,1.0,1.0,1.0,1.0,1.0])                                                                                                                           |\n",
            "|russia ukraine war live civilians killed hostilities far rd world war nuclear says russian minister                                                                                       |[war, live, civilian, kill, hostility, far, rd, world, war, nuclear, say, minister]                                                                                                    |[{sentence, 0}, {sentence, 0}, {sentence, 0}, {sentence, 0}, {sentence, 0}, {sentence, 0}, {sentence, 0}, {sentence, 0}, {sentence, 0}, {sentence, 0}, {sentence, 0}, {sentence, 0}]                                                                                                                                                                     |(59542,[0,2,26,34,44,77,102,162,264,942,1810],[2.0,1.0,1.0,1.0,1.0,1.0,1.0,1.0,1.0,1.0,1.0])                                                                                            |\n",
            "|russia say ukraine neo nazis anyone ever watch ross kemp gangs personally met russian neo nazis russia                                                                                    |[say, neo, nazi, anyone, ever, watch, ross, kemp, gang, personally, meet, neo, nazi]                                                                                                   |[{sentence, 0}, {sentence, 0}, {sentence, 0}, {sentence, 0}, {sentence, 0}, {sentence, 0}, {sentence, 0}, {sentence, 0}, {sentence, 0}, {sentence, 0}, {sentence, 0}, {sentence, 0}, {sentence, 0}]                                                                                                                                                      |(59542,[2,106,107,219,270,649,1383,1580,3383,12955,15371],[1.0,1.0,1.0,1.0,2.0,1.0,2.0,1.0,1.0,1.0,1.0])                                                                                |\n",
            "|casualty update kyiv independent shares official reporting state emergency service civilians killed russian troops since invasion ukraine began february                                  |[casualty, update, kyiv, independent, share, official, report, state, emergency, service, civilian, kill, troop, since, invasion, begin, february]                                     |[{sentence, 0}, {sentence, 0}, {sentence, 0}, {sentence, 0}, {sentence, 0}, {sentence, 0}, {sentence, 0}, {sentence, 0}, {sentence, 0}, {sentence, 0}, {sentence, 0}, {sentence, 0}, {sentence, 0}, {sentence, 0}, {sentence, 0}, {sentence, 0}, {sentence, 0}]                                                                                          |(59542,[12,31,34,38,44,47,52,120,135,180,184,204,253,653,703,754,902],[1.0,1.0,1.0,1.0,1.0,1.0,1.0,1.0,1.0,1.0,1.0,1.0,1.0,1.0,1.0,1.0,1.0])                                            |\n",
            "|appeal mothers fathers brothers sisters sons daughters fellow citizens russia                                                                                                             |[appeal, mother, father, brother, sister, son, daughter, fellow, citizen]                                                                                                              |[{sentence, 0}, {sentence, 0}, {sentence, 0}, {sentence, 0}, {sentence, 0}, {sentence, 0}, {sentence, 0}, {sentence, 0}, {sentence, 0}]                                                                                                                                                                                                                  |(59542,[237,350,615,621,870,933,1060,1274,1613],[1.0,1.0,1.0,1.0,1.0,1.0,1.0,1.0,1.0])                                                                                                  |\n",
            "|masterplan ukraine make indian students hostage get india side                                                                                                                            |[masterplan, make, indian, student, hostage, get, india, side]                                                                                                                         |[{sentence, 0}, {sentence, 0}, {sentence, 0}, {sentence, 0}, {sentence, 0}, {sentence, 0}, {sentence, 0}, {sentence, 0}]                                                                                                                                                                                                                                 |(59542,[8,16,251,588,768,988,1990,12957],[1.0,1.0,1.0,1.0,1.0,1.0,1.0,1.0])                                                                                                             |\n",
            "|scale ukrainian heroism russian terrorism                                                                                                                                                 |[scale, heroism, terrorism]                                                                                                                                                            |[{sentence, 0}, {sentence, 0}, {sentence, 0}]                                                                                                                                                                                                                                                                                                            |(59542,[680,1695,3853],[1.0,1.0,1.0])                                                                                                                                                   |\n",
            "|masterplan ukraine make indian students hostage get india side                                                                                                                            |[masterplan, make, indian, student, hostage, get, india, side]                                                                                                                         |[{sentence, 0}, {sentence, 0}, {sentence, 0}, {sentence, 0}, {sentence, 0}, {sentence, 0}, {sentence, 0}, {sentence, 0}]                                                                                                                                                                                                                                 |(59542,[8,16,251,588,768,988,1990,12957],[1.0,1.0,1.0,1.0,1.0,1.0,1.0,1.0])                                                                                                             |\n",
            "|war ukraine fated end russian civil war fsb helps stop zelensky assassins                                                                                                                 |[war, fate, end, civil, war, fsb, help, stop, zelensky, assassin]                                                                                                                      |[{sentence, 0}, {sentence, 0}, {sentence, 0}, {sentence, 0}, {sentence, 0}, {sentence, 0}, {sentence, 0}, {sentence, 0}, {sentence, 0}, {sentence, 0}]                                                                                                                                                                                                   |(59542,[0,9,86,88,111,1047,1332,1752,8635],[2.0,1.0,1.0,1.0,1.0,1.0,1.0,1.0,1.0])                                                                                                       |\n",
            "|russian delegation came city konotop negotiate surrender effectively said city destroyed fighting otherwise lead russian soldier walking around two hand grenades held air presumably pins|[delegation, come, city, konotop, negotiate, surrender, effectively, say, city, destroy, fight, otherwise, lead, soldier, walk, around, two, hand, grenade, hold, air, presumably, pin]|[{sentence, 0}, {sentence, 0}, {sentence, 0}, {sentence, 0}, {sentence, 0}, {sentence, 0}, {sentence, 0}, {sentence, 0}, {sentence, 0}, {sentence, 0}, {sentence, 0}, {sentence, 0}, {sentence, 0}, {sentence, 0}, {sentence, 0}, {sentence, 0}, {sentence, 0}, {sentence, 0}, {sentence, 0}, {sentence, 0}, {sentence, 0}, {sentence, 0}, {sentence, 0}]|(59542,[2,5,14,17,32,54,78,83,171,196,272,427,457,965,969,1553,1809,2092,2102,2111,2347,4282],[1.0,1.0,1.0,1.0,2.0,1.0,1.0,1.0,1.0,1.0,1.0,1.0,1.0,1.0,1.0,1.0,1.0,1.0,1.0,1.0,1.0,1.0])|\n",
            "+------------------------------------------------------------------------------------------------------------------------------------------------------------------------------------------+---------------------------------------------------------------------------------------------------------------------------------------------------------------------------------------+---------------------------------------------------------------------------------------------------------------------------------------------------------------------------------------------------------------------------------------------------------------------------------------------------------------------------------------------------------+----------------------------------------------------------------------------------------------------------------------------------------------------------------------------------------+\n",
            "only showing top 20 rows\n",
            "\n"
          ]
        }
      ]
    },
    {
      "cell_type": "code",
      "source": [
        "from pyspark.ml.feature import IDF\n",
        "idfizer = IDF(inputCol='tf_features', \n",
        "              outputCol='tf_idf_features')\n",
        "idf_model = idfizer.fit(tf_result)\n",
        "tfidf_result = idf_model.transform(tf_result)"
      ],
      "metadata": {
        "id": "DE1DcEawBgAC"
      },
      "execution_count": 43,
      "outputs": []
    },
    {
      "cell_type": "code",
      "source": [
        "tfidf_result.select('tf_idf_features').show(truncate=False)"
      ],
      "metadata": {
        "colab": {
          "base_uri": "https://localhost:8080/"
        },
        "id": "fZgGaY1rE0cF",
        "outputId": "675e51f9-f667-45fd-c3d2-59a0a49bfcce"
      },
      "execution_count": 44,
      "outputs": [
        {
          "output_type": "stream",
          "name": "stdout",
          "text": [
            "+--------------------------------------------------------------------------------------------------------------------------------------------------------------------------------------------------------------------------------------------------------------------------------------------------------------------------------------------------------------------------------------------------------------------------------------------------------------------------------------------------------------+\n",
            "|tf_idf_features                                                                                                                                                                                                                                                                                                                                                                                                                                                                                               |\n",
            "+--------------------------------------------------------------------------------------------------------------------------------------------------------------------------------------------------------------------------------------------------------------------------------------------------------------------------------------------------------------------------------------------------------------------------------------------------------------------------------------------------------------+\n",
            "|(59542,[12,374,3690],[3.2868493652665016,5.0939512649298235,7.96049054745789])                                                                                                                                                                                                                                                                                                                                                                                                                                |\n",
            "|(59542,[20,233,307,427,455,1396,6346],[3.4790859307603577,4.742049599743749,4.914416519043048,5.230225172654116,5.316013150373292,6.468563968464128,8.89876018605082])                                                                                                                                                                                                                                                                                                                                        |\n",
            "|(59542,[53,196,265,591,4025,13088],[3.776451014240146,4.63256536690206,4.903111157110854,5.808981156739276,8.16479101097062,10.179694031512884])                                                                                                                                                                                                                                                                                                                                                              |\n",
            "|(59542,[69,2755],[4.035293828134189,7.478332818561471])                                                                                                                                                                                                                                                                                                                                                                                                                                                       |\n",
            "|(59542,[11,635,1214],[3.3704339992798467,5.601895042320925,6.4115413965044405])                                                                                                                                                                                                                                                                                                                                                                                                                               |\n",
            "|(59542,[0,2,17,32,44,168,204,2404],[2.2509637335897903,2.7452594648415896,3.392751372747495,3.6546643736694224,3.7287497879904996,4.497475734772524,4.598455909614778,7.235255052346444])                                                                                                                                                                                                                                                                                                                     |\n",
            "|(59542,[15,45,164,2755],[3.407529406837096,3.762471673028976,4.443121734033692,7.478332818561471])                                                                                                                                                                                                                                                                                                                                                                                                            |\n",
            "|(59542,[18,46,82,200,499,697,790,1125],[3.392751372747495,3.7249672775705216,3.98876406044527,4.66747569501757,5.463877325437729,5.6363992492428805,5.822985204823293,6.207517103264991])                                                                                                                                                                                                                                                                                                                     |\n",
            "|(59542,[4,18,23,36,74,76,362,493,689],[3.067937246744904,3.392751372747495,3.429177528957239,3.630902026987492,3.9816219017307923,3.9678898604234267,5.142741429099255,5.369137015799843,5.725346735259377])                                                                                                                                                                                                                                                                                                  |\n",
            "|(59542,[20,233,307,427,455,1396,6346],[3.4790859307603577,4.742049599743749,4.914416519043048,5.230225172654116,5.316013150373292,6.468563968464128,8.89876018605082])                                                                                                                                                                                                                                                                                                                                        |\n",
            "|(59542,[136,329,588,988,1460,2419],[4.440866215113883,5.014908057589371,5.537228060781096,6.126171463811039,6.57691727645236,7.311795129468778])                                                                                                                                                                                                                                                                                                                                                              |\n",
            "|(59542,[0,2,26,34,44,77,102,162,264,942,1810],[4.501927467179581,2.7452594648415896,3.6114756805248054,3.5867864930552975,3.7287497879904996,4.070446448748519,4.329793048726689,4.4749120565236,4.824051598345578,5.94994483228458,6.8728073293219705])                                                                                                                                                                                                                                                      |\n",
            "|(59542,[2,106,107,219,270,649,1383,1580,3383,12955,15371],[2.7452594648415896,4.233749999706712,4.263491968905449,4.661438244599586,9.983499444892436,5.589637483334841,13.089485838849008,6.653333506896723,7.8671586076656705,10.179694031512884,10.536368975451618])                                                                                                                                                                                                                                       |\n",
            "|(59542,[12,31,34,38,44,47,52,120,135,180,184,204,253,653,703,754,902],[3.2868493652665016,3.5425670704167005,3.5867864930552975,3.6568662094213638,3.7287497879904996,3.8189098229330916,3.753853032802318,4.365862051712726,4.42173907796829,4.635689149215744,4.609823974442951,4.598455909614778,4.808126203225255,5.623714089715564,5.723023853843237,5.798918178740656,6.0053067616172475])                                                                                                              |\n",
            "|(59542,[237,350,615,621,870,933,1060,1274,1613],[4.742484666098229,5.1196338540891055,5.622664220852728,5.669934030329451,5.979489078591306,6.072104242540763,6.13139340779219,6.511017284716467,6.6474683874443246])                                                                                                                                                                                                                                                                                         |\n",
            "|(59542,[8,16,251,588,768,988,1990,12957],[3.2721387725334146,3.433164401029969,4.850362611435679,5.537228060781096,5.914201213094954,6.126171463811039,7.039861413985137,10.179694031512884])                                                                                                                                                                                                                                                                                                                 |\n",
            "|(59542,[680,1695,3853],[5.656819088251623,6.778496649850729,8.027931828253422])                                                                                                                                                                                                                                                                                                                                                                                                                               |\n",
            "|(59542,[8,16,251,588,768,988,1990,12957],[3.2721387725334146,3.433164401029969,4.850362611435679,5.537228060781096,5.914201213094954,6.126171463811039,7.039861413985137,10.179694031512884])                                                                                                                                                                                                                                                                                                                 |\n",
            "|(59542,[0,9,86,88,111,1047,1332,1752,8635],[4.501927467179581,3.306323179392578,4.026110634928467,4.113122011918097,4.323476633812928,6.21697791176922,6.451593864245667,6.775168859758055,9.486546850952939])                                                                                                                                                                                                                                                                                                |\n",
            "|(59542,[2,5,14,17,32,54,78,83,171,196,272,427,457,965,969,1553,1809,2092,2102,2111,2347,4282],[2.7452594648415896,2.928845625315419,3.263474674118618,3.392751372747495,7.309328747338845,3.8894220291697033,4.0995320296436155,4.092237718751176,4.572422457237527,4.63256536690206,4.834970292150692,5.230225172654116,5.316013150373292,6.0053067616172475,6.038147867806489,6.680160749129867,6.833304886345724,7.06617872230251,7.174011427105725,7.116303109485079,7.199075395768942,8.262771419330823])|\n",
            "+--------------------------------------------------------------------------------------------------------------------------------------------------------------------------------------------------------------------------------------------------------------------------------------------------------------------------------------------------------------------------------------------------------------------------------------------------------------------------------------------------------------+\n",
            "only showing top 20 rows\n",
            "\n"
          ]
        }
      ]
    },
    {
      "cell_type": "code",
      "source": [
        "from pyspark.ml.clustering import LDA\n",
        "num_topics = 10\n",
        "max_iter = 10\n",
        "lda = LDA(k=num_topics, \n",
        "          maxIter=max_iter, \n",
        "          featuresCol='tf_idf_features')\n",
        "lda_model = lda.fit(tfidf_result)"
      ],
      "metadata": {
        "id": "Jd1hVsAhE75B"
      },
      "execution_count": 45,
      "outputs": []
    },
    {
      "cell_type": "code",
      "source": [
        "import pyspark.sql.types as T\n",
        "\n",
        "vocab = tf_model.vocabulary\n",
        "\n",
        "def get_words(token_list):\n",
        "    return [vocab[token_id] for token_id in token_list]\n",
        "\n",
        "udf_to_words = F.udf(get_words, T.ArrayType(T.StringType()))"
      ],
      "metadata": {
        "id": "cjb0uNbdHxxo"
      },
      "execution_count": 46,
      "outputs": []
    },
    {
      "cell_type": "code",
      "source": [
        "num_top_words = 10\n",
        "\n",
        "topics = lda_model  \\\n",
        "     .describeTopics(num_top_words) \\\n",
        "     .withColumn('topicWords', udf_to_words(F.col('termIndices')))\n",
        "\n",
        "topics.select('topic', 'topicWords').show(truncate=100)"
      ],
      "metadata": {
        "colab": {
          "base_uri": "https://localhost:8080/"
        },
        "id": "jxVdfjReI4zn",
        "outputId": "4ab1c412-a421-4c8d-93fb-e54319fc6529"
      },
      "execution_count": 47,
      "outputs": [
        {
          "output_type": "stream",
          "name": "stdout",
          "text": [
            "+-----+------------------------------------------------------------------------------------+\n",
            "|topic|                                                                          topicWords|\n",
            "+-----+------------------------------------------------------------------------------------+\n",
            "|    0|                          [soldier, amp, call, war, f, phone, https, border, b, get]|\n",
            "|    1|           [island, snake, moskva, dog, sink, pow, shoot, soldier, twitter, torture]|\n",
            "|    2|    [azov, weapon, germany, mariupol, war, azovstal, president, putin, say, soldier]|\n",
            "|    3|               [missile, fly, air, bridge, help, plant, defense, nuclear, su, force]|\n",
            "|    4|[vehicle, destroy, tank, force, armored, drone, artillery, troop, equipment, turkey]|\n",
            "|    5|             [live, mariupol, news, radio, troll, war, twitter, steel, map, theater]|\n",
            "|    6| [gt, nazi, denazification, putin, negotiation, nazism, war, state, airstrike, must]|\n",
            "|    7|                         [eu, gas, oil, say, putin, war, city, nuclear, power, kill]|\n",
            "|    8|                           [war, people, gt, putin, day, world, know, see, go, help]|\n",
            "|    9|               [force, military, say, putin, nato, kyiv, region, war, destroy, tank]|\n",
            "+-----+------------------------------------------------------------------------------------+\n",
            "\n"
          ]
        }
      ]
    },
    {
      "cell_type": "code",
      "source": [],
      "metadata": {
        "id": "wcS7at63JKJc"
      },
      "execution_count": null,
      "outputs": []
    }
  ]
}